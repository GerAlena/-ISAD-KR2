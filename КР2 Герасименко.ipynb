{
 "cells": [
  {
   "cell_type": "code",
   "execution_count": 6,
   "id": "9ef0fcb3",
   "metadata": {},
   "outputs": [],
   "source": [
    "#!pip install numpy\n",
    "#!pip install matplotlib\n",
    "#!pip install pandas\n",
    "#!pip list"
   ]
  },
  {
   "cell_type": "code",
   "execution_count": 98,
   "id": "3bd9974a",
   "metadata": {},
   "outputs": [
    {
     "name": "stdout",
     "output_type": "stream",
     "text": [
      "Requirement already satisfied: openpyxl in c:\\users\\user\\anaconda3\\envs\\geralena\\lib\\site-packages (3.0.9)\n",
      "Requirement already satisfied: et-xmlfile in c:\\users\\user\\anaconda3\\envs\\geralena\\lib\\site-packages (from openpyxl) (1.1.0)\n"
     ]
    }
   ],
   "source": [
    " !pip install openpyxl"
   ]
  },
  {
   "cell_type": "code",
   "execution_count": 99,
   "id": "7c496417",
   "metadata": {},
   "outputs": [],
   "source": [
    "import numpy as np\n",
    "import matplotlib.pyplot as plt\n",
    "import pandas as pd"
   ]
  },
  {
   "cell_type": "code",
   "execution_count": 100,
   "id": "89282528",
   "metadata": {},
   "outputs": [],
   "source": [
    "df = pd.read_excel(\"3.xlsx\", engine='openpyxl')"
   ]
  },
  {
   "cell_type": "code",
   "execution_count": 101,
   "id": "f4aeb69a",
   "metadata": {},
   "outputs": [
    {
     "data": {
      "text/html": [
       "<div>\n",
       "<style scoped>\n",
       "    .dataframe tbody tr th:only-of-type {\n",
       "        vertical-align: middle;\n",
       "    }\n",
       "\n",
       "    .dataframe tbody tr th {\n",
       "        vertical-align: top;\n",
       "    }\n",
       "\n",
       "    .dataframe thead th {\n",
       "        text-align: right;\n",
       "    }\n",
       "</style>\n",
       "<table border=\"1\" class=\"dataframe\">\n",
       "  <thead>\n",
       "    <tr style=\"text-align: right;\">\n",
       "      <th></th>\n",
       "      <th>Успех</th>\n",
       "      <th>Площадь загальна кв.м</th>\n",
       "      <th>Этаж</th>\n",
       "      <th>Количество сотрудников в штаті</th>\n",
       "      <th>Тип</th>\n",
       "      <th>Кількість відгуків в гуглі</th>\n",
       "      <th>Количество чеков в месяц</th>\n",
       "      <th>Среднее количество единиц в чеке</th>\n",
       "      <th>Людинопотік</th>\n",
       "      <th>Середній дохід населення</th>\n",
       "      <th>Зупинка ГТ</th>\n",
       "      <th>Зупинка ГТ додому</th>\n",
       "      <th>Кінцева зупинкка ГТ</th>\n",
       "      <th>Пішохідний перехід</th>\n",
       "      <th>Спеціалізований хліб</th>\n",
       "    </tr>\n",
       "  </thead>\n",
       "  <tbody>\n",
       "    <tr>\n",
       "      <th>0</th>\n",
       "      <td>не успішний</td>\n",
       "      <td>9.0</td>\n",
       "      <td>1</td>\n",
       "      <td>2</td>\n",
       "      <td>Light</td>\n",
       "      <td>NaN</td>\n",
       "      <td>1230.0</td>\n",
       "      <td>1.56</td>\n",
       "      <td>5211.0</td>\n",
       "      <td>15610.0</td>\n",
       "      <td>1</td>\n",
       "      <td>1</td>\n",
       "      <td>0</td>\n",
       "      <td>0</td>\n",
       "      <td>1</td>\n",
       "    </tr>\n",
       "    <tr>\n",
       "      <th>1</th>\n",
       "      <td>не успішний</td>\n",
       "      <td>30.0</td>\n",
       "      <td>1</td>\n",
       "      <td>2</td>\n",
       "      <td>Light</td>\n",
       "      <td>8.0</td>\n",
       "      <td>2715.0</td>\n",
       "      <td>2.03</td>\n",
       "      <td>2424.0</td>\n",
       "      <td>12600.0</td>\n",
       "      <td>1</td>\n",
       "      <td>1</td>\n",
       "      <td>1</td>\n",
       "      <td>0</td>\n",
       "      <td>0</td>\n",
       "    </tr>\n",
       "    <tr>\n",
       "      <th>2</th>\n",
       "      <td>не успішний</td>\n",
       "      <td>15.0</td>\n",
       "      <td>1</td>\n",
       "      <td>2</td>\n",
       "      <td>light</td>\n",
       "      <td>NaN</td>\n",
       "      <td>878.0</td>\n",
       "      <td>1.81</td>\n",
       "      <td>3868.0</td>\n",
       "      <td>12600.0</td>\n",
       "      <td>1</td>\n",
       "      <td>1</td>\n",
       "      <td>0</td>\n",
       "      <td>1</td>\n",
       "      <td>1</td>\n",
       "    </tr>\n",
       "    <tr>\n",
       "      <th>3</th>\n",
       "      <td>не успішний</td>\n",
       "      <td>20.0</td>\n",
       "      <td>1</td>\n",
       "      <td>2</td>\n",
       "      <td>light</td>\n",
       "      <td>NaN</td>\n",
       "      <td>2346.0</td>\n",
       "      <td>2.18</td>\n",
       "      <td>4546.0</td>\n",
       "      <td>13930.0</td>\n",
       "      <td>1</td>\n",
       "      <td>1</td>\n",
       "      <td>0</td>\n",
       "      <td>0</td>\n",
       "      <td>1</td>\n",
       "    </tr>\n",
       "    <tr>\n",
       "      <th>4</th>\n",
       "      <td>не успішний</td>\n",
       "      <td>30.0</td>\n",
       "      <td>1</td>\n",
       "      <td>2</td>\n",
       "      <td>light</td>\n",
       "      <td>NaN</td>\n",
       "      <td>2542.0</td>\n",
       "      <td>1.63</td>\n",
       "      <td>3244.0</td>\n",
       "      <td>16030.0</td>\n",
       "      <td>0</td>\n",
       "      <td>0</td>\n",
       "      <td>0</td>\n",
       "      <td>0</td>\n",
       "      <td>0</td>\n",
       "    </tr>\n",
       "  </tbody>\n",
       "</table>\n",
       "</div>"
      ],
      "text/plain": [
       "         Успех  Площадь загальна кв.м  Этаж  Количество сотрудников в штаті  \\\n",
       "0  не успішний                    9.0     1                               2   \n",
       "1  не успішний                   30.0     1                               2   \n",
       "2  не успішний                   15.0     1                               2   \n",
       "3  не успішний                   20.0     1                               2   \n",
       "4  не успішний                   30.0     1                               2   \n",
       "\n",
       "     Тип  Кількість відгуків в гуглі  Количество чеков в месяц  \\\n",
       "0  Light                         NaN                    1230.0   \n",
       "1  Light                         8.0                    2715.0   \n",
       "2  light                         NaN                     878.0   \n",
       "3  light                         NaN                    2346.0   \n",
       "4  light                         NaN                    2542.0   \n",
       "\n",
       "   Среднее количество единиц в чеке  Людинопотік  Середній дохід населення  \\\n",
       "0                              1.56       5211.0                   15610.0   \n",
       "1                              2.03       2424.0                   12600.0   \n",
       "2                              1.81       3868.0                   12600.0   \n",
       "3                              2.18       4546.0                   13930.0   \n",
       "4                              1.63       3244.0                   16030.0   \n",
       "\n",
       "   Зупинка ГТ  Зупинка ГТ додому  Кінцева зупинкка ГТ  Пішохідний перехід  \\\n",
       "0           1                  1                    0                   0   \n",
       "1           1                  1                    1                   0   \n",
       "2           1                  1                    0                   1   \n",
       "3           1                  1                    0                   0   \n",
       "4           0                  0                    0                   0   \n",
       "\n",
       "   Спеціалізований хліб  \n",
       "0                     1  \n",
       "1                     0  \n",
       "2                     1  \n",
       "3                     1  \n",
       "4                     0  "
      ]
     },
     "execution_count": 101,
     "metadata": {},
     "output_type": "execute_result"
    }
   ],
   "source": [
    "df.head()"
   ]
  },
  {
   "cell_type": "code",
   "execution_count": 102,
   "id": "4e6d87ca",
   "metadata": {},
   "outputs": [
    {
     "name": "stdout",
     "output_type": "stream",
     "text": [
      "<class 'pandas.core.frame.DataFrame'>\n",
      "RangeIndex: 69 entries, 0 to 68\n",
      "Data columns (total 15 columns):\n",
      " #   Column                            Non-Null Count  Dtype  \n",
      "---  ------                            --------------  -----  \n",
      " 0   Успех                             69 non-null     object \n",
      " 1   Площадь загальна кв.м             69 non-null     float64\n",
      " 2   Этаж                              69 non-null     int64  \n",
      " 3   Количество сотрудников в штаті    69 non-null     int64  \n",
      " 4   Тип                               69 non-null     object \n",
      " 5   Кількість відгуків в гуглі        39 non-null     float64\n",
      " 6   Количество чеков в месяц          62 non-null     float64\n",
      " 7   Среднее количество единиц в чеке  62 non-null     float64\n",
      " 8   Людинопотік                       64 non-null     float64\n",
      " 9   Середній дохід населення          64 non-null     float64\n",
      " 10  Зупинка ГТ                        69 non-null     int64  \n",
      " 11  Зупинка ГТ додому                 69 non-null     int64  \n",
      " 12  Кінцева зупинкка ГТ               69 non-null     int64  \n",
      " 13  Пішохідний перехід                69 non-null     int64  \n",
      " 14  Спеціалізований хліб              69 non-null     int64  \n",
      "dtypes: float64(6), int64(7), object(2)\n",
      "memory usage: 8.2+ KB\n"
     ]
    }
   ],
   "source": [
    "df.info()"
   ]
  },
  {
   "cell_type": "markdown",
   "id": "fd3931f2",
   "metadata": {},
   "source": [
    "# Null values"
   ]
  },
  {
   "cell_type": "code",
   "execution_count": 103,
   "id": "73f2f974",
   "metadata": {},
   "outputs": [
    {
     "data": {
      "image/png": "[encoded data removed]",
      "text/plain": [
       "<Figure size 432x288 with 1 Axes>"
      ]
     },
     "metadata": {
      "needs_background": "light"
     },
     "output_type": "display_data"
    }
   ],
   "source": [
    "fig = plt.figure()\n",
    "ax = fig.add_axes([0, 0, 0.5, 0.5])\n",
    "missings = pd.DataFrame(df.isnull().sum())\n",
    "vars_with_missings = missings[missings > 1].dropna().index.tolist()\n",
    "sns.heatmap(df[vars_with_missings].isnull(),\n",
    "            cbar=False, yticklabels=False, cmap='inferno', ax=ax)\n",
    "plt.show()"
   ]
  },
  {
   "cell_type": "markdown",
   "id": "2384cba9",
   "metadata": {},
   "source": [
    "Необходимо заполнить недостающие значения"
   ]
  },
  {
   "cell_type": "code",
   "execution_count": 104,
   "id": "f7c6a38f",
   "metadata": {},
   "outputs": [
    {
     "data": {
      "image/png": "[encoded data removed]",
      "text/plain": [
       "<Figure size 432x288 with 1 Axes>"
      ]
     },
     "metadata": {
      "needs_background": "light"
     },
     "output_type": "display_data"
    }
   ],
   "source": [
    "df['Количество чеков в месяц'] = df['Количество чеков в месяц'].fillna(df['Количество чеков в месяц'].mean())\n",
    "df['Среднее количество единиц в чеке'] = df['Среднее количество единиц в чеке'].fillna(df['Среднее количество единиц в чеке'].mean())\n",
    "df['Людинопотік'] = df['Людинопотік'].fillna(df['Людинопотік'].mean())\n",
    "df['Середній дохід населення'] = df['Середній дохід населення'].fillna(df['Середній дохід населення'].mean())\n",
    "fig = plt.figure()\n",
    "ax = fig.add_axes([0, 0, 0.5, 0.5])\n",
    "missings = pd.DataFrame(df.isnull().sum())\n",
    "vars_with_missings = missings[missings > 1].dropna().index.tolist()\n",
    "sns.heatmap(df[vars_with_missings].isnull(),\n",
    "            cbar=False, yticklabels=False, cmap='inferno', ax=ax)\n",
    "plt.show()"
   ]
  },
  {
   "cell_type": "markdown",
   "id": "e377a09a",
   "metadata": {},
   "source": [
    "Как и было выдно с прошлой визуализации, в переменной колич отзывов слишком много неизвестных показателей, поэтому ее я учитывать не буду"
   ]
  },
  {
   "cell_type": "code",
   "execution_count": 105,
   "id": "cc5a910f",
   "metadata": {},
   "outputs": [
    {
     "data": {
      "text/html": [
       "<div>\n",
       "<style scoped>\n",
       "    .dataframe tbody tr th:only-of-type {\n",
       "        vertical-align: middle;\n",
       "    }\n",
       "\n",
       "    .dataframe tbody tr th {\n",
       "        vertical-align: top;\n",
       "    }\n",
       "\n",
       "    .dataframe thead th {\n",
       "        text-align: right;\n",
       "    }\n",
       "</style>\n",
       "<table border=\"1\" class=\"dataframe\">\n",
       "  <thead>\n",
       "    <tr style=\"text-align: right;\">\n",
       "      <th></th>\n",
       "      <th>Успех</th>\n",
       "      <th>Площадь загальна кв.м</th>\n",
       "      <th>Этаж</th>\n",
       "      <th>Количество сотрудников в штаті</th>\n",
       "      <th>Тип</th>\n",
       "      <th>Количество чеков в месяц</th>\n",
       "      <th>Среднее количество единиц в чеке</th>\n",
       "      <th>Людинопотік</th>\n",
       "      <th>Середній дохід населення</th>\n",
       "      <th>Зупинка ГТ</th>\n",
       "      <th>Зупинка ГТ додому</th>\n",
       "      <th>Кінцева зупинкка ГТ</th>\n",
       "      <th>Пішохідний перехід</th>\n",
       "      <th>Спеціалізований хліб</th>\n",
       "    </tr>\n",
       "  </thead>\n",
       "  <tbody>\n",
       "    <tr>\n",
       "      <th>0</th>\n",
       "      <td>не успішний</td>\n",
       "      <td>9.00</td>\n",
       "      <td>1</td>\n",
       "      <td>2</td>\n",
       "      <td>Light</td>\n",
       "      <td>1230.0</td>\n",
       "      <td>1.56</td>\n",
       "      <td>5211.0</td>\n",
       "      <td>15610.0</td>\n",
       "      <td>1</td>\n",
       "      <td>1</td>\n",
       "      <td>0</td>\n",
       "      <td>0</td>\n",
       "      <td>1</td>\n",
       "    </tr>\n",
       "    <tr>\n",
       "      <th>1</th>\n",
       "      <td>не успішний</td>\n",
       "      <td>30.00</td>\n",
       "      <td>1</td>\n",
       "      <td>2</td>\n",
       "      <td>Light</td>\n",
       "      <td>2715.0</td>\n",
       "      <td>2.03</td>\n",
       "      <td>2424.0</td>\n",
       "      <td>12600.0</td>\n",
       "      <td>1</td>\n",
       "      <td>1</td>\n",
       "      <td>1</td>\n",
       "      <td>0</td>\n",
       "      <td>0</td>\n",
       "    </tr>\n",
       "    <tr>\n",
       "      <th>2</th>\n",
       "      <td>не успішний</td>\n",
       "      <td>15.00</td>\n",
       "      <td>1</td>\n",
       "      <td>2</td>\n",
       "      <td>light</td>\n",
       "      <td>878.0</td>\n",
       "      <td>1.81</td>\n",
       "      <td>3868.0</td>\n",
       "      <td>12600.0</td>\n",
       "      <td>1</td>\n",
       "      <td>1</td>\n",
       "      <td>0</td>\n",
       "      <td>1</td>\n",
       "      <td>1</td>\n",
       "    </tr>\n",
       "    <tr>\n",
       "      <th>3</th>\n",
       "      <td>не успішний</td>\n",
       "      <td>20.00</td>\n",
       "      <td>1</td>\n",
       "      <td>2</td>\n",
       "      <td>light</td>\n",
       "      <td>2346.0</td>\n",
       "      <td>2.18</td>\n",
       "      <td>4546.0</td>\n",
       "      <td>13930.0</td>\n",
       "      <td>1</td>\n",
       "      <td>1</td>\n",
       "      <td>0</td>\n",
       "      <td>0</td>\n",
       "      <td>1</td>\n",
       "    </tr>\n",
       "    <tr>\n",
       "      <th>4</th>\n",
       "      <td>не успішний</td>\n",
       "      <td>30.00</td>\n",
       "      <td>1</td>\n",
       "      <td>2</td>\n",
       "      <td>light</td>\n",
       "      <td>2542.0</td>\n",
       "      <td>1.63</td>\n",
       "      <td>3244.0</td>\n",
       "      <td>16030.0</td>\n",
       "      <td>0</td>\n",
       "      <td>0</td>\n",
       "      <td>0</td>\n",
       "      <td>0</td>\n",
       "      <td>0</td>\n",
       "    </tr>\n",
       "    <tr>\n",
       "      <th>...</th>\n",
       "      <td>...</td>\n",
       "      <td>...</td>\n",
       "      <td>...</td>\n",
       "      <td>...</td>\n",
       "      <td>...</td>\n",
       "      <td>...</td>\n",
       "      <td>...</td>\n",
       "      <td>...</td>\n",
       "      <td>...</td>\n",
       "      <td>...</td>\n",
       "      <td>...</td>\n",
       "      <td>...</td>\n",
       "      <td>...</td>\n",
       "      <td>...</td>\n",
       "    </tr>\n",
       "    <tr>\n",
       "      <th>64</th>\n",
       "      <td>успішний</td>\n",
       "      <td>51.77</td>\n",
       "      <td>1</td>\n",
       "      <td>6</td>\n",
       "      <td>Standart</td>\n",
       "      <td>13552.0</td>\n",
       "      <td>1.89</td>\n",
       "      <td>2306.0</td>\n",
       "      <td>8750.0</td>\n",
       "      <td>0</td>\n",
       "      <td>0</td>\n",
       "      <td>0</td>\n",
       "      <td>1</td>\n",
       "      <td>1</td>\n",
       "    </tr>\n",
       "    <tr>\n",
       "      <th>65</th>\n",
       "      <td>успішний</td>\n",
       "      <td>27.26</td>\n",
       "      <td>1</td>\n",
       "      <td>4</td>\n",
       "      <td>Light</td>\n",
       "      <td>7598.0</td>\n",
       "      <td>1.85</td>\n",
       "      <td>4065.0</td>\n",
       "      <td>13300.0</td>\n",
       "      <td>0</td>\n",
       "      <td>0</td>\n",
       "      <td>0</td>\n",
       "      <td>0</td>\n",
       "      <td>1</td>\n",
       "    </tr>\n",
       "    <tr>\n",
       "      <th>66</th>\n",
       "      <td>не успішний</td>\n",
       "      <td>148.91</td>\n",
       "      <td>1</td>\n",
       "      <td>2</td>\n",
       "      <td>Light</td>\n",
       "      <td>5431.0</td>\n",
       "      <td>1.99</td>\n",
       "      <td>906.0</td>\n",
       "      <td>11060.0</td>\n",
       "      <td>0</td>\n",
       "      <td>0</td>\n",
       "      <td>0</td>\n",
       "      <td>0</td>\n",
       "      <td>0</td>\n",
       "    </tr>\n",
       "    <tr>\n",
       "      <th>67</th>\n",
       "      <td>не успішний</td>\n",
       "      <td>50.93</td>\n",
       "      <td>1</td>\n",
       "      <td>3</td>\n",
       "      <td>Standart</td>\n",
       "      <td>4375.0</td>\n",
       "      <td>1.73</td>\n",
       "      <td>1742.0</td>\n",
       "      <td>11900.0</td>\n",
       "      <td>0</td>\n",
       "      <td>0</td>\n",
       "      <td>0</td>\n",
       "      <td>0</td>\n",
       "      <td>0</td>\n",
       "    </tr>\n",
       "    <tr>\n",
       "      <th>68</th>\n",
       "      <td>успішний</td>\n",
       "      <td>30.00</td>\n",
       "      <td>1</td>\n",
       "      <td>3</td>\n",
       "      <td>light</td>\n",
       "      <td>7355.0</td>\n",
       "      <td>2.13</td>\n",
       "      <td>1132.0</td>\n",
       "      <td>11060.0</td>\n",
       "      <td>0</td>\n",
       "      <td>0</td>\n",
       "      <td>1</td>\n",
       "      <td>1</td>\n",
       "      <td>1</td>\n",
       "    </tr>\n",
       "  </tbody>\n",
       "</table>\n",
       "<p>69 rows × 14 columns</p>\n",
       "</div>"
      ],
      "text/plain": [
       "          Успех  Площадь загальна кв.м  Этаж  Количество сотрудников в штаті  \\\n",
       "0   не успішний                   9.00     1                               2   \n",
       "1   не успішний                  30.00     1                               2   \n",
       "2   не успішний                  15.00     1                               2   \n",
       "3   не успішний                  20.00     1                               2   \n",
       "4   не успішний                  30.00     1                               2   \n",
       "..          ...                    ...   ...                             ...   \n",
       "64     успішний                  51.77     1                               6   \n",
       "65     успішний                  27.26     1                               4   \n",
       "66  не успішний                 148.91     1                               2   \n",
       "67  не успішний                  50.93     1                               3   \n",
       "68     успішний                  30.00     1                               3   \n",
       "\n",
       "         Тип  Количество чеков в месяц  Среднее количество единиц в чеке  \\\n",
       "0      Light                    1230.0                              1.56   \n",
       "1      Light                    2715.0                              2.03   \n",
       "2      light                     878.0                              1.81   \n",
       "3      light                    2346.0                              2.18   \n",
       "4      light                    2542.0                              1.63   \n",
       "..       ...                       ...                               ...   \n",
       "64  Standart                   13552.0                              1.89   \n",
       "65     Light                    7598.0                              1.85   \n",
       "66     Light                    5431.0                              1.99   \n",
       "67  Standart                    4375.0                              1.73   \n",
       "68     light                    7355.0                              2.13   \n",
       "\n",
       "    Людинопотік  Середній дохід населення  Зупинка ГТ  Зупинка ГТ додому  \\\n",
       "0        5211.0                   15610.0           1                  1   \n",
       "1        2424.0                   12600.0           1                  1   \n",
       "2        3868.0                   12600.0           1                  1   \n",
       "3        4546.0                   13930.0           1                  1   \n",
       "4        3244.0                   16030.0           0                  0   \n",
       "..          ...                       ...         ...                ...   \n",
       "64       2306.0                    8750.0           0                  0   \n",
       "65       4065.0                   13300.0           0                  0   \n",
       "66        906.0                   11060.0           0                  0   \n",
       "67       1742.0                   11900.0           0                  0   \n",
       "68       1132.0                   11060.0           0                  0   \n",
       "\n",
       "    Кінцева зупинкка ГТ  Пішохідний перехід  Спеціалізований хліб  \n",
       "0                     0                   0                     1  \n",
       "1                     1                   0                     0  \n",
       "2                     0                   1                     1  \n",
       "3                     0                   0                     1  \n",
       "4                     0                   0                     0  \n",
       "..                  ...                 ...                   ...  \n",
       "64                    0                   1                     1  \n",
       "65                    0                   0                     1  \n",
       "66                    0                   0                     0  \n",
       "67                    0                   0                     0  \n",
       "68                    1                   1                     1  \n",
       "\n",
       "[69 rows x 14 columns]"
      ]
     },
     "execution_count": 105,
     "metadata": {},
     "output_type": "execute_result"
    }
   ],
   "source": [
    "df = df.drop(columns=['Кількість відгуків в гуглі'])\n",
    "df"
   ]
  },
  {
   "cell_type": "markdown",
   "id": "158e913a",
   "metadata": {},
   "source": [
    "# Encoding"
   ]
  },
  {
   "cell_type": "code",
   "execution_count": 106,
   "id": "59180ca8",
   "metadata": {},
   "outputs": [
    {
     "data": {
      "text/plain": [
       "Light       39\n",
       "Standart    19\n",
       "light        9\n",
       "Micro        1\n",
       "Premium      1\n",
       "Name: Тип, dtype: int64"
      ]
     },
     "execution_count": 106,
     "metadata": {},
     "output_type": "execute_result"
    }
   ],
   "source": [
    "df.Тип.value_counts()"
   ]
  },
  {
   "cell_type": "code",
   "execution_count": 109,
   "id": "a55230f2",
   "metadata": {},
   "outputs": [],
   "source": [
    "type = {'Light':0,'Standart':1, 'light':0, 'Micro':2, 'Premium': 3}\n",
    "df['Тип'] = df['Тип'].map(type)"
   ]
  },
  {
   "cell_type": "code",
   "execution_count": 110,
   "id": "a9215405",
   "metadata": {},
   "outputs": [
    {
     "data": {
      "text/html": [
       "<div>\n",
       "<style scoped>\n",
       "    .dataframe tbody tr th:only-of-type {\n",
       "        vertical-align: middle;\n",
       "    }\n",
       "\n",
       "    .dataframe tbody tr th {\n",
       "        vertical-align: top;\n",
       "    }\n",
       "\n",
       "    .dataframe thead th {\n",
       "        text-align: right;\n",
       "    }\n",
       "</style>\n",
       "<table border=\"1\" class=\"dataframe\">\n",
       "  <thead>\n",
       "    <tr style=\"text-align: right;\">\n",
       "      <th></th>\n",
       "      <th>Успех</th>\n",
       "      <th>Площадь загальна кв.м</th>\n",
       "      <th>Этаж</th>\n",
       "      <th>Количество сотрудников в штаті</th>\n",
       "      <th>Тип</th>\n",
       "      <th>Количество чеков в месяц</th>\n",
       "      <th>Среднее количество единиц в чеке</th>\n",
       "      <th>Людинопотік</th>\n",
       "      <th>Середній дохід населення</th>\n",
       "      <th>Зупинка ГТ</th>\n",
       "      <th>Зупинка ГТ додому</th>\n",
       "      <th>Кінцева зупинкка ГТ</th>\n",
       "      <th>Пішохідний перехід</th>\n",
       "      <th>Спеціалізований хліб</th>\n",
       "    </tr>\n",
       "  </thead>\n",
       "  <tbody>\n",
       "    <tr>\n",
       "      <th>0</th>\n",
       "      <td>не успішний</td>\n",
       "      <td>9.00</td>\n",
       "      <td>1</td>\n",
       "      <td>2</td>\n",
       "      <td>0</td>\n",
       "      <td>1230.0</td>\n",
       "      <td>1.56</td>\n",
       "      <td>5211.0</td>\n",
       "      <td>15610.0</td>\n",
       "      <td>1</td>\n",
       "      <td>1</td>\n",
       "      <td>0</td>\n",
       "      <td>0</td>\n",
       "      <td>1</td>\n",
       "    </tr>\n",
       "    <tr>\n",
       "      <th>1</th>\n",
       "      <td>не успішний</td>\n",
       "      <td>30.00</td>\n",
       "      <td>1</td>\n",
       "      <td>2</td>\n",
       "      <td>0</td>\n",
       "      <td>2715.0</td>\n",
       "      <td>2.03</td>\n",
       "      <td>2424.0</td>\n",
       "      <td>12600.0</td>\n",
       "      <td>1</td>\n",
       "      <td>1</td>\n",
       "      <td>1</td>\n",
       "      <td>0</td>\n",
       "      <td>0</td>\n",
       "    </tr>\n",
       "    <tr>\n",
       "      <th>2</th>\n",
       "      <td>не успішний</td>\n",
       "      <td>15.00</td>\n",
       "      <td>1</td>\n",
       "      <td>2</td>\n",
       "      <td>0</td>\n",
       "      <td>878.0</td>\n",
       "      <td>1.81</td>\n",
       "      <td>3868.0</td>\n",
       "      <td>12600.0</td>\n",
       "      <td>1</td>\n",
       "      <td>1</td>\n",
       "      <td>0</td>\n",
       "      <td>1</td>\n",
       "      <td>1</td>\n",
       "    </tr>\n",
       "    <tr>\n",
       "      <th>3</th>\n",
       "      <td>не успішний</td>\n",
       "      <td>20.00</td>\n",
       "      <td>1</td>\n",
       "      <td>2</td>\n",
       "      <td>0</td>\n",
       "      <td>2346.0</td>\n",
       "      <td>2.18</td>\n",
       "      <td>4546.0</td>\n",
       "      <td>13930.0</td>\n",
       "      <td>1</td>\n",
       "      <td>1</td>\n",
       "      <td>0</td>\n",
       "      <td>0</td>\n",
       "      <td>1</td>\n",
       "    </tr>\n",
       "    <tr>\n",
       "      <th>4</th>\n",
       "      <td>не успішний</td>\n",
       "      <td>30.00</td>\n",
       "      <td>1</td>\n",
       "      <td>2</td>\n",
       "      <td>0</td>\n",
       "      <td>2542.0</td>\n",
       "      <td>1.63</td>\n",
       "      <td>3244.0</td>\n",
       "      <td>16030.0</td>\n",
       "      <td>0</td>\n",
       "      <td>0</td>\n",
       "      <td>0</td>\n",
       "      <td>0</td>\n",
       "      <td>0</td>\n",
       "    </tr>\n",
       "    <tr>\n",
       "      <th>...</th>\n",
       "      <td>...</td>\n",
       "      <td>...</td>\n",
       "      <td>...</td>\n",
       "      <td>...</td>\n",
       "      <td>...</td>\n",
       "      <td>...</td>\n",
       "      <td>...</td>\n",
       "      <td>...</td>\n",
       "      <td>...</td>\n",
       "      <td>...</td>\n",
       "      <td>...</td>\n",
       "      <td>...</td>\n",
       "      <td>...</td>\n",
       "      <td>...</td>\n",
       "    </tr>\n",
       "    <tr>\n",
       "      <th>64</th>\n",
       "      <td>успішний</td>\n",
       "      <td>51.77</td>\n",
       "      <td>1</td>\n",
       "      <td>6</td>\n",
       "      <td>1</td>\n",
       "      <td>13552.0</td>\n",
       "      <td>1.89</td>\n",
       "      <td>2306.0</td>\n",
       "      <td>8750.0</td>\n",
       "      <td>0</td>\n",
       "      <td>0</td>\n",
       "      <td>0</td>\n",
       "      <td>1</td>\n",
       "      <td>1</td>\n",
       "    </tr>\n",
       "    <tr>\n",
       "      <th>65</th>\n",
       "      <td>успішний</td>\n",
       "      <td>27.26</td>\n",
       "      <td>1</td>\n",
       "      <td>4</td>\n",
       "      <td>0</td>\n",
       "      <td>7598.0</td>\n",
       "      <td>1.85</td>\n",
       "      <td>4065.0</td>\n",
       "      <td>13300.0</td>\n",
       "      <td>0</td>\n",
       "      <td>0</td>\n",
       "      <td>0</td>\n",
       "      <td>0</td>\n",
       "      <td>1</td>\n",
       "    </tr>\n",
       "    <tr>\n",
       "      <th>66</th>\n",
       "      <td>не успішний</td>\n",
       "      <td>148.91</td>\n",
       "      <td>1</td>\n",
       "      <td>2</td>\n",
       "      <td>0</td>\n",
       "      <td>5431.0</td>\n",
       "      <td>1.99</td>\n",
       "      <td>906.0</td>\n",
       "      <td>11060.0</td>\n",
       "      <td>0</td>\n",
       "      <td>0</td>\n",
       "      <td>0</td>\n",
       "      <td>0</td>\n",
       "      <td>0</td>\n",
       "    </tr>\n",
       "    <tr>\n",
       "      <th>67</th>\n",
       "      <td>не успішний</td>\n",
       "      <td>50.93</td>\n",
       "      <td>1</td>\n",
       "      <td>3</td>\n",
       "      <td>1</td>\n",
       "      <td>4375.0</td>\n",
       "      <td>1.73</td>\n",
       "      <td>1742.0</td>\n",
       "      <td>11900.0</td>\n",
       "      <td>0</td>\n",
       "      <td>0</td>\n",
       "      <td>0</td>\n",
       "      <td>0</td>\n",
       "      <td>0</td>\n",
       "    </tr>\n",
       "    <tr>\n",
       "      <th>68</th>\n",
       "      <td>успішний</td>\n",
       "      <td>30.00</td>\n",
       "      <td>1</td>\n",
       "      <td>3</td>\n",
       "      <td>0</td>\n",
       "      <td>7355.0</td>\n",
       "      <td>2.13</td>\n",
       "      <td>1132.0</td>\n",
       "      <td>11060.0</td>\n",
       "      <td>0</td>\n",
       "      <td>0</td>\n",
       "      <td>1</td>\n",
       "      <td>1</td>\n",
       "      <td>1</td>\n",
       "    </tr>\n",
       "  </tbody>\n",
       "</table>\n",
       "<p>69 rows × 14 columns</p>\n",
       "</div>"
      ],
      "text/plain": [
       "          Успех  Площадь загальна кв.м  Этаж  Количество сотрудников в штаті  \\\n",
       "0   не успішний                   9.00     1                               2   \n",
       "1   не успішний                  30.00     1                               2   \n",
       "2   не успішний                  15.00     1                               2   \n",
       "3   не успішний                  20.00     1                               2   \n",
       "4   не успішний                  30.00     1                               2   \n",
       "..          ...                    ...   ...                             ...   \n",
       "64     успішний                  51.77     1                               6   \n",
       "65     успішний                  27.26     1                               4   \n",
       "66  не успішний                 148.91     1                               2   \n",
       "67  не успішний                  50.93     1                               3   \n",
       "68     успішний                  30.00     1                               3   \n",
       "\n",
       "    Тип  Количество чеков в месяц  Среднее количество единиц в чеке  \\\n",
       "0     0                    1230.0                              1.56   \n",
       "1     0                    2715.0                              2.03   \n",
       "2     0                     878.0                              1.81   \n",
       "3     0                    2346.0                              2.18   \n",
       "4     0                    2542.0                              1.63   \n",
       "..  ...                       ...                               ...   \n",
       "64    1                   13552.0                              1.89   \n",
       "65    0                    7598.0                              1.85   \n",
       "66    0                    5431.0                              1.99   \n",
       "67    1                    4375.0                              1.73   \n",
       "68    0                    7355.0                              2.13   \n",
       "\n",
       "    Людинопотік  Середній дохід населення  Зупинка ГТ  Зупинка ГТ додому  \\\n",
       "0        5211.0                   15610.0           1                  1   \n",
       "1        2424.0                   12600.0           1                  1   \n",
       "2        3868.0                   12600.0           1                  1   \n",
       "3        4546.0                   13930.0           1                  1   \n",
       "4        3244.0                   16030.0           0                  0   \n",
       "..          ...                       ...         ...                ...   \n",
       "64       2306.0                    8750.0           0                  0   \n",
       "65       4065.0                   13300.0           0                  0   \n",
       "66        906.0                   11060.0           0                  0   \n",
       "67       1742.0                   11900.0           0                  0   \n",
       "68       1132.0                   11060.0           0                  0   \n",
       "\n",
       "    Кінцева зупинкка ГТ  Пішохідний перехід  Спеціалізований хліб  \n",
       "0                     0                   0                     1  \n",
       "1                     1                   0                     0  \n",
       "2                     0                   1                     1  \n",
       "3                     0                   0                     1  \n",
       "4                     0                   0                     0  \n",
       "..                  ...                 ...                   ...  \n",
       "64                    0                   1                     1  \n",
       "65                    0                   0                     1  \n",
       "66                    0                   0                     0  \n",
       "67                    0                   0                     0  \n",
       "68                    1                   1                     1  \n",
       "\n",
       "[69 rows x 14 columns]"
      ]
     },
     "execution_count": 110,
     "metadata": {},
     "output_type": "execute_result"
    }
   ],
   "source": [
    "df"
   ]
  },
  {
   "cell_type": "code",
   "execution_count": 111,
   "id": "8b9f41c2",
   "metadata": {},
   "outputs": [
    {
     "data": {
      "text/plain": [
       "не успішний    44\n",
       "успішний       25\n",
       "Name: Успех, dtype: int64"
      ]
     },
     "execution_count": 111,
     "metadata": {},
     "output_type": "execute_result"
    }
   ],
   "source": [
    "df.Успех.value_counts()"
   ]
  },
  {
   "cell_type": "code",
   "execution_count": 112,
   "id": "69bc572c",
   "metadata": {},
   "outputs": [
    {
     "data": {
      "text/html": [
       "<div>\n",
       "<style scoped>\n",
       "    .dataframe tbody tr th:only-of-type {\n",
       "        vertical-align: middle;\n",
       "    }\n",
       "\n",
       "    .dataframe tbody tr th {\n",
       "        vertical-align: top;\n",
       "    }\n",
       "\n",
       "    .dataframe thead th {\n",
       "        text-align: right;\n",
       "    }\n",
       "</style>\n",
       "<table border=\"1\" class=\"dataframe\">\n",
       "  <thead>\n",
       "    <tr style=\"text-align: right;\">\n",
       "      <th></th>\n",
       "      <th>Успех</th>\n",
       "      <th>Площадь загальна кв.м</th>\n",
       "      <th>Этаж</th>\n",
       "      <th>Количество сотрудников в штаті</th>\n",
       "      <th>Тип</th>\n",
       "      <th>Количество чеков в месяц</th>\n",
       "      <th>Среднее количество единиц в чеке</th>\n",
       "      <th>Людинопотік</th>\n",
       "      <th>Середній дохід населення</th>\n",
       "      <th>Зупинка ГТ</th>\n",
       "      <th>Зупинка ГТ додому</th>\n",
       "      <th>Кінцева зупинкка ГТ</th>\n",
       "      <th>Пішохідний перехід</th>\n",
       "      <th>Спеціалізований хліб</th>\n",
       "    </tr>\n",
       "  </thead>\n",
       "  <tbody>\n",
       "    <tr>\n",
       "      <th>0</th>\n",
       "      <td>0</td>\n",
       "      <td>9.00</td>\n",
       "      <td>1</td>\n",
       "      <td>2</td>\n",
       "      <td>0</td>\n",
       "      <td>1230.0</td>\n",
       "      <td>1.56</td>\n",
       "      <td>5211.0</td>\n",
       "      <td>15610.0</td>\n",
       "      <td>1</td>\n",
       "      <td>1</td>\n",
       "      <td>0</td>\n",
       "      <td>0</td>\n",
       "      <td>1</td>\n",
       "    </tr>\n",
       "    <tr>\n",
       "      <th>1</th>\n",
       "      <td>0</td>\n",
       "      <td>30.00</td>\n",
       "      <td>1</td>\n",
       "      <td>2</td>\n",
       "      <td>0</td>\n",
       "      <td>2715.0</td>\n",
       "      <td>2.03</td>\n",
       "      <td>2424.0</td>\n",
       "      <td>12600.0</td>\n",
       "      <td>1</td>\n",
       "      <td>1</td>\n",
       "      <td>1</td>\n",
       "      <td>0</td>\n",
       "      <td>0</td>\n",
       "    </tr>\n",
       "    <tr>\n",
       "      <th>2</th>\n",
       "      <td>0</td>\n",
       "      <td>15.00</td>\n",
       "      <td>1</td>\n",
       "      <td>2</td>\n",
       "      <td>0</td>\n",
       "      <td>878.0</td>\n",
       "      <td>1.81</td>\n",
       "      <td>3868.0</td>\n",
       "      <td>12600.0</td>\n",
       "      <td>1</td>\n",
       "      <td>1</td>\n",
       "      <td>0</td>\n",
       "      <td>1</td>\n",
       "      <td>1</td>\n",
       "    </tr>\n",
       "    <tr>\n",
       "      <th>3</th>\n",
       "      <td>0</td>\n",
       "      <td>20.00</td>\n",
       "      <td>1</td>\n",
       "      <td>2</td>\n",
       "      <td>0</td>\n",
       "      <td>2346.0</td>\n",
       "      <td>2.18</td>\n",
       "      <td>4546.0</td>\n",
       "      <td>13930.0</td>\n",
       "      <td>1</td>\n",
       "      <td>1</td>\n",
       "      <td>0</td>\n",
       "      <td>0</td>\n",
       "      <td>1</td>\n",
       "    </tr>\n",
       "    <tr>\n",
       "      <th>4</th>\n",
       "      <td>0</td>\n",
       "      <td>30.00</td>\n",
       "      <td>1</td>\n",
       "      <td>2</td>\n",
       "      <td>0</td>\n",
       "      <td>2542.0</td>\n",
       "      <td>1.63</td>\n",
       "      <td>3244.0</td>\n",
       "      <td>16030.0</td>\n",
       "      <td>0</td>\n",
       "      <td>0</td>\n",
       "      <td>0</td>\n",
       "      <td>0</td>\n",
       "      <td>0</td>\n",
       "    </tr>\n",
       "    <tr>\n",
       "      <th>...</th>\n",
       "      <td>...</td>\n",
       "      <td>...</td>\n",
       "      <td>...</td>\n",
       "      <td>...</td>\n",
       "      <td>...</td>\n",
       "      <td>...</td>\n",
       "      <td>...</td>\n",
       "      <td>...</td>\n",
       "      <td>...</td>\n",
       "      <td>...</td>\n",
       "      <td>...</td>\n",
       "      <td>...</td>\n",
       "      <td>...</td>\n",
       "      <td>...</td>\n",
       "    </tr>\n",
       "    <tr>\n",
       "      <th>64</th>\n",
       "      <td>1</td>\n",
       "      <td>51.77</td>\n",
       "      <td>1</td>\n",
       "      <td>6</td>\n",
       "      <td>1</td>\n",
       "      <td>13552.0</td>\n",
       "      <td>1.89</td>\n",
       "      <td>2306.0</td>\n",
       "      <td>8750.0</td>\n",
       "      <td>0</td>\n",
       "      <td>0</td>\n",
       "      <td>0</td>\n",
       "      <td>1</td>\n",
       "      <td>1</td>\n",
       "    </tr>\n",
       "    <tr>\n",
       "      <th>65</th>\n",
       "      <td>1</td>\n",
       "      <td>27.26</td>\n",
       "      <td>1</td>\n",
       "      <td>4</td>\n",
       "      <td>0</td>\n",
       "      <td>7598.0</td>\n",
       "      <td>1.85</td>\n",
       "      <td>4065.0</td>\n",
       "      <td>13300.0</td>\n",
       "      <td>0</td>\n",
       "      <td>0</td>\n",
       "      <td>0</td>\n",
       "      <td>0</td>\n",
       "      <td>1</td>\n",
       "    </tr>\n",
       "    <tr>\n",
       "      <th>66</th>\n",
       "      <td>0</td>\n",
       "      <td>148.91</td>\n",
       "      <td>1</td>\n",
       "      <td>2</td>\n",
       "      <td>0</td>\n",
       "      <td>5431.0</td>\n",
       "      <td>1.99</td>\n",
       "      <td>906.0</td>\n",
       "      <td>11060.0</td>\n",
       "      <td>0</td>\n",
       "      <td>0</td>\n",
       "      <td>0</td>\n",
       "      <td>0</td>\n",
       "      <td>0</td>\n",
       "    </tr>\n",
       "    <tr>\n",
       "      <th>67</th>\n",
       "      <td>0</td>\n",
       "      <td>50.93</td>\n",
       "      <td>1</td>\n",
       "      <td>3</td>\n",
       "      <td>1</td>\n",
       "      <td>4375.0</td>\n",
       "      <td>1.73</td>\n",
       "      <td>1742.0</td>\n",
       "      <td>11900.0</td>\n",
       "      <td>0</td>\n",
       "      <td>0</td>\n",
       "      <td>0</td>\n",
       "      <td>0</td>\n",
       "      <td>0</td>\n",
       "    </tr>\n",
       "    <tr>\n",
       "      <th>68</th>\n",
       "      <td>1</td>\n",
       "      <td>30.00</td>\n",
       "      <td>1</td>\n",
       "      <td>3</td>\n",
       "      <td>0</td>\n",
       "      <td>7355.0</td>\n",
       "      <td>2.13</td>\n",
       "      <td>1132.0</td>\n",
       "      <td>11060.0</td>\n",
       "      <td>0</td>\n",
       "      <td>0</td>\n",
       "      <td>1</td>\n",
       "      <td>1</td>\n",
       "      <td>1</td>\n",
       "    </tr>\n",
       "  </tbody>\n",
       "</table>\n",
       "<p>69 rows × 14 columns</p>\n",
       "</div>"
      ],
      "text/plain": [
       "    Успех  Площадь загальна кв.м  Этаж  Количество сотрудников в штаті  Тип  \\\n",
       "0       0                   9.00     1                               2    0   \n",
       "1       0                  30.00     1                               2    0   \n",
       "2       0                  15.00     1                               2    0   \n",
       "3       0                  20.00     1                               2    0   \n",
       "4       0                  30.00     1                               2    0   \n",
       "..    ...                    ...   ...                             ...  ...   \n",
       "64      1                  51.77     1                               6    1   \n",
       "65      1                  27.26     1                               4    0   \n",
       "66      0                 148.91     1                               2    0   \n",
       "67      0                  50.93     1                               3    1   \n",
       "68      1                  30.00     1                               3    0   \n",
       "\n",
       "    Количество чеков в месяц  Среднее количество единиц в чеке  Людинопотік  \\\n",
       "0                     1230.0                              1.56       5211.0   \n",
       "1                     2715.0                              2.03       2424.0   \n",
       "2                      878.0                              1.81       3868.0   \n",
       "3                     2346.0                              2.18       4546.0   \n",
       "4                     2542.0                              1.63       3244.0   \n",
       "..                       ...                               ...          ...   \n",
       "64                   13552.0                              1.89       2306.0   \n",
       "65                    7598.0                              1.85       4065.0   \n",
       "66                    5431.0                              1.99        906.0   \n",
       "67                    4375.0                              1.73       1742.0   \n",
       "68                    7355.0                              2.13       1132.0   \n",
       "\n",
       "    Середній дохід населення  Зупинка ГТ  Зупинка ГТ додому  \\\n",
       "0                    15610.0           1                  1   \n",
       "1                    12600.0           1                  1   \n",
       "2                    12600.0           1                  1   \n",
       "3                    13930.0           1                  1   \n",
       "4                    16030.0           0                  0   \n",
       "..                       ...         ...                ...   \n",
       "64                    8750.0           0                  0   \n",
       "65                   13300.0           0                  0   \n",
       "66                   11060.0           0                  0   \n",
       "67                   11900.0           0                  0   \n",
       "68                   11060.0           0                  0   \n",
       "\n",
       "    Кінцева зупинкка ГТ  Пішохідний перехід  Спеціалізований хліб  \n",
       "0                     0                   0                     1  \n",
       "1                     1                   0                     0  \n",
       "2                     0                   1                     1  \n",
       "3                     0                   0                     1  \n",
       "4                     0                   0                     0  \n",
       "..                  ...                 ...                   ...  \n",
       "64                    0                   1                     1  \n",
       "65                    0                   0                     1  \n",
       "66                    0                   0                     0  \n",
       "67                    0                   0                     0  \n",
       "68                    1                   1                     1  \n",
       "\n",
       "[69 rows x 14 columns]"
      ]
     },
     "execution_count": 112,
     "metadata": {},
     "output_type": "execute_result"
    }
   ],
   "source": [
    "type_ = {'не успішний':0,'успішний':1}\n",
    "df['Успех'] = df['Успех'].map(type_)\n",
    "df"
   ]
  },
  {
   "cell_type": "code",
   "execution_count": 113,
   "id": "99593321",
   "metadata": {},
   "outputs": [
    {
     "data": {
      "text/plain": [
       "1    69\n",
       "Name: Этаж, dtype: int64"
      ]
     },
     "execution_count": 113,
     "metadata": {},
     "output_type": "execute_result"
    }
   ],
   "source": [
    "df.Этаж.value_counts()"
   ]
  },
  {
   "cell_type": "markdown",
   "id": "eb45ee15",
   "metadata": {},
   "source": [
    "# Chouse features"
   ]
  },
  {
   "cell_type": "code",
   "execution_count": 114,
   "id": "628326eb",
   "metadata": {},
   "outputs": [
    {
     "data": {
      "image/png": "[encoded data removed]",
      "text/plain": [
       "<Figure size 864x648 with 2 Axes>"
      ]
     },
     "metadata": {
      "needs_background": "light"
     },
     "output_type": "display_data"
    }
   ],
   "source": [
    "# Cheking correlations\n",
    "import seaborn as sns\n",
    "corrmat = df.corr()\n",
    "f, ax = plt.subplots(figsize=(12, 9))\n",
    "sns.heatmap(corrmat, annot=True)\n",
    "plt.show()"
   ]
  },
  {
   "cell_type": "markdown",
   "id": "c0e1d927",
   "metadata": {},
   "source": [
    "# Classification Tree & Ensembles"
   ]
  },
  {
   "cell_type": "code",
   "execution_count": 115,
   "id": "8253a859",
   "metadata": {},
   "outputs": [],
   "source": [
    "features = ['Количество чеков в месяц', 'Среднее количество единиц в чеке']\n",
    "X =df[features]\n",
    "y = df['Успех']\n",
    "X_train, X_test, y_train, y_test = train_test_split(X, y, test_size=0.2, random_state=10)"
   ]
  },
  {
   "cell_type": "code",
   "execution_count": 116,
   "id": "7c7ea00c",
   "metadata": {},
   "outputs": [],
   "source": [
    "def max_leaf_nodes(X_train, X_test, y_train, y_test, n):\n",
    "    mse_train = []\n",
    "    mse_test = []\n",
    "    for i in n:\n",
    "        ct = DecisionTreeClassifier(max_leaf_nodes = i, random_state=10).fit(X_train, y_train)\n",
    "        mse_train.append(mean_squared_error(y_train, ct.predict(X_train)))\n",
    "        mse_test.append(mean_squared_error(y_test, ct.predict(X_test)))\n",
    "    \n",
    "    fig, ax = plt.subplots(figsize=(8, 4))\n",
    "    ax.plot(n, mse_train, alpha=0.5, color='blue', label='train')\n",
    "    ax.plot(n, mse_test, alpha=0.5, color='red', label='test')\n",
    "    ax.set_ylabel(\"MSE\")\n",
    "    ax.set_xlabel(\"max_leaf_nodes\")"
   ]
  },
  {
   "cell_type": "code",
   "execution_count": 117,
   "id": "f158857a",
   "metadata": {},
   "outputs": [
    {
     "data": {
      "image/png": "[encoded data removed]",
      "text/plain": [
       "<Figure size 576x288 with 1 Axes>"
      ]
     },
     "metadata": {
      "needs_background": "light"
     },
     "output_type": "display_data"
    }
   ],
   "source": [
    "# The optimal number of max_leaf_nodes\n",
    "from sklearn.tree import DecisionTreeClassifier\n",
    "from sklearn.metrics import mean_squared_error\n",
    "max_leaf_nodes(X_train, X_test, y_train, y_test, [2, 4, 6, 8, 10])"
   ]
  },
  {
   "cell_type": "markdown",
   "id": "618f4373",
   "metadata": {},
   "source": [
    "# Model"
   ]
  },
  {
   "cell_type": "code",
   "execution_count": 118,
   "id": "3314c679",
   "metadata": {},
   "outputs": [],
   "source": [
    "# Fitting Classification Tree to the Training set (2 variables)\n",
    "ct = DecisionTreeClassifier(max_leaf_nodes = 3, criterion = 'entropy', random_state = 10).fit(X_train, y_train)"
   ]
  },
  {
   "cell_type": "markdown",
   "id": "68aa3435",
   "metadata": {},
   "source": [
    "# Result"
   ]
  },
  {
   "cell_type": "code",
   "execution_count": 119,
   "id": "6243e73b",
   "metadata": {},
   "outputs": [
    {
     "data": {
      "text/plain": [
       "1.0"
      ]
     },
     "execution_count": 119,
     "metadata": {},
     "output_type": "execute_result"
    }
   ],
   "source": [
    "# Predicting the Test set results\n",
    "y_pred = ct.predict(X_test)\n",
    "ct.score(X_test,y_test)"
   ]
  },
  {
   "cell_type": "markdown",
   "id": "ce4807b6",
   "metadata": {},
   "source": [
    "Можем сделать вывод что в 100% модель соверашет правильных поступков, ошибок нет"
   ]
  },
  {
   "cell_type": "code",
   "execution_count": 120,
   "id": "52f18ea8",
   "metadata": {},
   "outputs": [
    {
     "name": "stdout",
     "output_type": "stream",
     "text": [
      "[[11  0]\n",
      " [ 0  3]]\n"
     ]
    }
   ],
   "source": [
    "# Making the Confusion Matrix\n",
    "from sklearn.metrics import confusion_matrix\n",
    "cm = confusion_matrix(y_test, y_pred)\n",
    "print(cm)"
   ]
  },
  {
   "cell_type": "code",
   "execution_count": 121,
   "id": "bd577aba",
   "metadata": {},
   "outputs": [
    {
     "ename": "SyntaxError",
     "evalue": "invalid syntax (Temp/ipykernel_11652/2891605648.py, line 1)",
     "output_type": "error",
     "traceback": [
      "\u001b[1;36m  File \u001b[1;32m\"C:\\Users\\User\\AppData\\Local\\Temp/ipykernel_11652/2891605648.py\"\u001b[1;36m, line \u001b[1;32m1\u001b[0m\n\u001b[1;33m    Как видно, все 14 примеров распознано верно\u001b[0m\n\u001b[1;37m        ^\u001b[0m\n\u001b[1;31mSyntaxError\u001b[0m\u001b[1;31m:\u001b[0m invalid syntax\n"
     ]
    }
   ],
   "source": [
    "Как видно, все 14 примеров распознано верно"
   ]
  },
  {
   "cell_type": "code",
   "execution_count": 122,
   "id": "084308d6",
   "metadata": {},
   "outputs": [
    {
     "data": {
      "text/plain": [
       "Index(['Площадь загальна кв.м', 'Этаж', 'Количество сотрудников в штаті',\n",
       "       'Тип', 'Количество чеков в месяц', 'Среднее количество единиц в чеке',\n",
       "       'Людинопотік', 'Середній дохід населення', 'Зупинка ГТ',\n",
       "       'Зупинка ГТ додому', 'Кінцева зупинкка ГТ', 'Пішохідний перехід',\n",
       "       'Спеціалізований хліб'],\n",
       "      dtype='object')"
      ]
     },
     "execution_count": 122,
     "metadata": {},
     "output_type": "execute_result"
    }
   ],
   "source": [
    "df.drop(columns=['Успех']).columns"
   ]
  },
  {
   "cell_type": "code",
   "execution_count": 123,
   "id": "37a66389",
   "metadata": {},
   "outputs": [
    {
     "data": {
      "text/plain": [
       "Text(0.5, 1.0, 'Boosting. Feature Importance')"
      ]
     },
     "execution_count": 123,
     "metadata": {},
     "output_type": "execute_result"
    },
    {
     "data": {
      "image/png": "[encoded data removed]",
      "text/plain": [
       "<Figure size 720x504 with 1 Axes>"
      ]
     },
     "metadata": {
      "needs_background": "light"
     },
     "output_type": "display_data"
    }
   ],
   "source": [
    "# Features importances\n",
    "col = features\n",
    "ct_imp = pd.DataFrame({'imp': ct.feature_importances_, 'col': col})\n",
    "ct_imp = ct_imp.sort_values(['imp', 'col'], ascending=[True, False]).iloc[-25:]\n",
    "ct_imp.plot(kind='barh', x='col', y='imp', figsize=(10, 7), legend=None)\n",
    "plt.title('Boosting. Feature Importance')"
   ]
  },
  {
   "cell_type": "markdown",
   "id": "1fba6a0a",
   "metadata": {},
   "source": [
    "# Visualisation"
   ]
  },
  {
   "cell_type": "code",
   "execution_count": 124,
   "id": "d534af5b",
   "metadata": {},
   "outputs": [
    {
     "name": "stderr",
     "output_type": "stream",
     "text": [
      "C:\\Users\\User\\anaconda3\\envs\\GerAlena\\lib\\site-packages\\sklearn\\base.py:445: UserWarning: X does not have valid feature names, but DecisionTreeClassifier was fitted with feature names\n",
      "  warnings.warn(\n",
      "*c* argument looks like a single numeric RGB or RGBA sequence, which should be avoided as value-mapping will have precedence in case its length matches with *x* & *y*.  Please use the *color* keyword-argument or provide a 2D array with a single row if you intend to specify the same RGB or RGBA value for all points.\n",
      "*c* argument looks like a single numeric RGB or RGBA sequence, which should be avoided as value-mapping will have precedence in case its length matches with *x* & *y*.  Please use the *color* keyword-argument or provide a 2D array with a single row if you intend to specify the same RGB or RGBA value for all points.\n"
     ]
    },
    {
     "data": {
      "image/png": "[encoded data removed]",
      "text/plain": [
       "<Figure size 432x288 with 1 Axes>"
      ]
     },
     "metadata": {
      "needs_background": "light"
     },
     "output_type": "display_data"
    }
   ],
   "source": [
    "# Visualising the Test set results\n",
    "from matplotlib.colors import ListedColormap\n",
    "X_set, y_set = X_test, y_test\n",
    "X1, X2 = np.meshgrid(np.arange(start = X_set['Количество чеков в месяц'].min() - 1, stop = X_set['Количество чеков в месяц'].max() + 1),\n",
    "                     np.arange(start = X_set['Среднее количество единиц в чеке'].min() - 1, stop = X_set['Среднее количество единиц в чеке'].max() + 1))\n",
    "plt.contourf(X1, X2, ct.predict(np.array([X1.ravel(), X2.ravel()]).T).reshape(X1.shape),\n",
    "             alpha = 0.75, cmap = ListedColormap(('red', 'green')))\n",
    "plt.xlim(X1.min(), X1.max())\n",
    "plt.ylim(X2.min(), X2.max())\n",
    "for i, j in enumerate(np.unique(y_set)):\n",
    "    plt.scatter(X_set['Количество чеков в месяц'][y_set == j], X_set['Среднее количество единиц в чеке'][y_set == j],\n",
    "                c = ListedColormap(('red', 'green'))(i), label = j)\n",
    "plt.title('Classification Tree (Test set)')\n",
    "plt.xlabel('Количество чеков в месяц')\n",
    "plt.ylabel('Среднее количество единиц в чеке')\n",
    "plt.legend()\n",
    "plt.show()"
   ]
  },
  {
   "cell_type": "markdown",
   "id": "bbf1e825",
   "metadata": {},
   "source": [
    "# Forest"
   ]
  },
  {
   "cell_type": "markdown",
   "id": "9be87f6b",
   "metadata": {},
   "source": [
    "# Paremeters"
   ]
  },
  {
   "cell_type": "code",
   "execution_count": 125,
   "id": "6c52e6af",
   "metadata": {},
   "outputs": [],
   "source": [
    "def rf_best_n_estimator(X_train, X_test, y_train, y_test, n):\n",
    "    mse_train = []\n",
    "    mse_test = []\n",
    "    for i in n:\n",
    "        rf = RandomForestClassifier(n_estimators=i, random_state=10).fit(X_train, y_train)\n",
    "        mse_train.append(mean_squared_error(y_train, rf.predict(X_train)))\n",
    "        mse_test.append(mean_squared_error(y_test, rf.predict(X_test)))\n",
    "    \n",
    "    fig, ax = plt.subplots(figsize=(8, 4))\n",
    "    ax.plot(n, mse_train, alpha=0.5, color='blue', label='train')\n",
    "    ax.plot(n, mse_test, alpha=0.5, color='red', label='test')\n",
    "    ax.set_ylabel(\"MSE\")\n",
    "    ax.set_xlabel(\"N_estimators\")"
   ]
  },
  {
   "cell_type": "code",
   "execution_count": 126,
   "id": "445a1f2a",
   "metadata": {},
   "outputs": [
    {
     "data": {
      "image/png": "[encoded data removed]",
      "text/plain": [
       "<Figure size 576x288 with 1 Axes>"
      ]
     },
     "metadata": {
      "needs_background": "light"
     },
     "output_type": "display_data"
    }
   ],
   "source": [
    "# The optimal number of trees \n",
    "from sklearn.ensemble import RandomForestClassifier    \n",
    "rf_best_n_estimator(X_train, X_test, y_train, y_test, [2, 5, 10, 15, 20])"
   ]
  },
  {
   "cell_type": "code",
   "execution_count": 127,
   "id": "398940dc",
   "metadata": {},
   "outputs": [],
   "source": [
    "def rf_max_leaf_nodes(X_train, X_test, y_train, y_test, n):\n",
    "    mse_train = []\n",
    "    mse_test = []\n",
    "    for i in n:\n",
    "        rf = RandomForestClassifier(n_estimators=5, max_leaf_nodes =i, random_state=10).fit(X_train, y_train)\n",
    "        mse_train.append(mean_squared_error(y_train, rf.predict(X_train)))\n",
    "        mse_test.append(mean_squared_error(y_test, rf.predict(X_test)))\n",
    "    \n",
    "    fig, ax = plt.subplots(figsize=(8, 4))\n",
    "    ax.plot(n, mse_train, alpha=0.5, color='blue', label='train')\n",
    "    ax.plot(n, mse_test, alpha=0.5, color='red', label='test')\n",
    "    ax.set_ylabel(\"MSE\")\n",
    "    ax.set_xlabel(\"max_leaf_nodes\")"
   ]
  },
  {
   "cell_type": "code",
   "execution_count": 128,
   "id": "3a1c4fd6",
   "metadata": {},
   "outputs": [
    {
     "data": {
      "image/png": "[encoded data removed]",
      "text/plain": [
       "<Figure size 576x288 with 1 Axes>"
      ]
     },
     "metadata": {
      "needs_background": "light"
     },
     "output_type": "display_data"
    }
   ],
   "source": [
    "# The optimal number of max_leaf_nodes\n",
    "rf_max_leaf_nodes(X_train, X_test, y_train, y_test, [2, 4, 6, 8, 10])"
   ]
  },
  {
   "cell_type": "markdown",
   "id": "e07b9def",
   "metadata": {},
   "source": [
    "# Model"
   ]
  },
  {
   "cell_type": "code",
   "execution_count": 129,
   "id": "dd7c1354",
   "metadata": {},
   "outputs": [],
   "source": [
    "# Fitting Random Forest to the Training set\n",
    "from sklearn.ensemble import RandomForestClassifier\n",
    "rf = RandomForestClassifier(n_estimators = 9, max_leaf_nodes = 8, random_state = 10).fit(X_train, y_train)"
   ]
  },
  {
   "cell_type": "markdown",
   "id": "30fee6a7",
   "metadata": {},
   "source": [
    "# Results"
   ]
  },
  {
   "cell_type": "code",
   "execution_count": 130,
   "id": "2f1ad92e",
   "metadata": {},
   "outputs": [
    {
     "data": {
      "text/plain": [
       "0.929"
      ]
     },
     "execution_count": 130,
     "metadata": {},
     "output_type": "execute_result"
    }
   ],
   "source": [
    "# Predicting the Test set results\n",
    "y_pred = rf.predict(X_test)\n",
    "y_pred = (y_pred > 0.5)\n",
    "rf.score(X_test,y_test).round(3)"
   ]
  },
  {
   "cell_type": "markdown",
   "id": "7c8c7792",
   "metadata": {},
   "source": [
    "\n",
    "Можем сделать вывод что в 93% модель совершет правильных поступков,и в 7% ошибается"
   ]
  },
  {
   "cell_type": "code",
   "execution_count": 131,
   "id": "291ab652",
   "metadata": {},
   "outputs": [
    {
     "name": "stdout",
     "output_type": "stream",
     "text": [
      "[[10  1]\n",
      " [ 0  3]]\n"
     ]
    }
   ],
   "source": [
    "# Making the Confusion Matrix\n",
    "from sklearn.metrics import confusion_matrix\n",
    "cm = confusion_matrix(y_test, y_pred)\n",
    "print(cm)"
   ]
  },
  {
   "cell_type": "markdown",
   "id": "4d0b4b21",
   "metadata": {},
   "source": [
    "\n",
    "Видим что 13 примеров распознано верно, 1 не верно"
   ]
  },
  {
   "cell_type": "code",
   "execution_count": 132,
   "id": "96b5bc15",
   "metadata": {},
   "outputs": [
    {
     "data": {
      "text/plain": [
       "Text(0.5, 1.0, 'Boosting. Feature Importance')"
      ]
     },
     "execution_count": 132,
     "metadata": {},
     "output_type": "execute_result"
    },
    {
     "data": {
      "image/png": "[encoded data removed]",
      "text/plain": [
       "<Figure size 720x504 with 1 Axes>"
      ]
     },
     "metadata": {
      "needs_background": "light"
     },
     "output_type": "display_data"
    }
   ],
   "source": [
    "# Features importances\n",
    "rf_imp = pd.DataFrame({'imp': rf.feature_importances_, 'col': col})\n",
    "rf_imp = rf_imp.sort_values(['imp', 'col'], ascending=[True, False]).iloc[-25:]\n",
    "rf_imp.plot(kind='barh', x='col', y='imp', figsize=(10, 7), legend=None)\n",
    "plt.title('Boosting. Feature Importance')"
   ]
  },
  {
   "cell_type": "markdown",
   "id": "0bed72fa",
   "metadata": {},
   "source": [
    "# Visualisation"
   ]
  },
  {
   "cell_type": "code",
   "execution_count": 133,
   "id": "ec66b2cf",
   "metadata": {},
   "outputs": [
    {
     "name": "stderr",
     "output_type": "stream",
     "text": [
      "C:\\Users\\User\\anaconda3\\envs\\GerAlena\\lib\\site-packages\\sklearn\\base.py:445: UserWarning: X does not have valid feature names, but RandomForestClassifier was fitted with feature names\n",
      "  warnings.warn(\n",
      "*c* argument looks like a single numeric RGB or RGBA sequence, which should be avoided as value-mapping will have precedence in case its length matches with *x* & *y*.  Please use the *color* keyword-argument or provide a 2D array with a single row if you intend to specify the same RGB or RGBA value for all points.\n",
      "*c* argument looks like a single numeric RGB or RGBA sequence, which should be avoided as value-mapping will have precedence in case its length matches with *x* & *y*.  Please use the *color* keyword-argument or provide a 2D array with a single row if you intend to specify the same RGB or RGBA value for all points.\n"
     ]
    },
    {
     "data": {
      "image/png": "[encoded data removed]",
      "text/plain": [
       "<Figure size 432x288 with 1 Axes>"
      ]
     },
     "metadata": {
      "needs_background": "light"
     },
     "output_type": "display_data"
    }
   ],
   "source": [
    "# Visualising the Test set results\n",
    "X_set, y_set = X_test, y_test\n",
    "X_set, y_set = X_test, y_test\n",
    "X1, X2 = np.meshgrid(np.arange(start = X_set['Количество чеков в месяц'].min() - 1, stop = X_set['Количество чеков в месяц'].max() + 1),\n",
    "                     np.arange(start = X_set['Среднее количество единиц в чеке'].min() - 1, stop = X_set['Среднее количество единиц в чеке'].max() + 1))\n",
    "plt.contourf(X1, X2, rf.predict(np.array([X1.ravel(), X2.ravel()]).T).reshape(X1.shape),\n",
    "             alpha = 0.75, cmap = ListedColormap(('red', 'green')))\n",
    "plt.xlim(X1.min(), X1.max())\n",
    "plt.ylim(X2.min(), X2.max())\n",
    "for i, j in enumerate(np.unique(y_set)):\n",
    "    plt.scatter(X_set['Количество чеков в месяц'][y_set == j], X_set['Среднее количество единиц в чеке'][y_set == j],\n",
    "                c = ListedColormap(('red', 'green'))(i), label = j)\n",
    "plt.title('Random Forest (Test set)')\n",
    "plt.xlabel('Количество чеков в месяц')\n",
    "plt.ylabel('Среднее количество единиц в чеке')\n",
    "plt.legend()\n",
    "plt.show()"
   ]
  },
  {
   "cell_type": "markdown",
   "id": "faec5b8d",
   "metadata": {},
   "source": [
    "# CatBoost"
   ]
  },
  {
   "cell_type": "markdown",
   "id": "0fcc0329",
   "metadata": {},
   "source": [
    "Paremeters"
   ]
  },
  {
   "cell_type": "code",
   "execution_count": 134,
   "id": "d551e6c8",
   "metadata": {},
   "outputs": [
    {
     "data": {
      "image/png": "[encoded data removed]",
      "text/plain": [
       "<Figure size 576x288 with 1 Axes>"
      ]
     },
     "metadata": {
      "needs_background": "light"
     },
     "output_type": "display_data"
    }
   ],
   "source": [
    "def catboost_best_iterations(X_train, X_test, y_train, y_test, n):\n",
    "    mse_train = []\n",
    "    mse_test = []\n",
    "    for i in n:\n",
    "        catboost = CatBoostClassifier(iterations=i,random_state=10).fit(X_train, y_train,eval_set=(X_test, y_test),logging_level='Silent')\n",
    "        mse_train.append(mean_squared_error(y_train, catboost.predict(X_train)))\n",
    "        mse_test.append(mean_squared_error(y_test, catboost.predict(X_test)))\n",
    "    fig, ax = plt.subplots(figsize=(8, 4))\n",
    "    ax.plot(n, mse_train, alpha=0.5, color='blue', label='train')\n",
    "    ax.plot(n, mse_test, alpha=0.5, color='red', label='test')\n",
    "    ax.set_ylabel('\"MSE')\n",
    "    ax.set_xlabel('Iterations')\n",
    "    ax.legend(framealpha=1, frameon=True);\n",
    "    \n",
    "from catboost import CatBoostClassifier\n",
    "catboost_best_iterations(X_train, X_test, y_train, y_test, list(range(1,13)))"
   ]
  },
  {
   "cell_type": "code",
   "execution_count": 135,
   "id": "77d8b630",
   "metadata": {},
   "outputs": [
    {
     "data": {
      "image/png": "[encoded data removed]",
      "text/plain": [
       "<Figure size 576x288 with 1 Axes>"
      ]
     },
     "metadata": {
      "needs_background": "light"
     },
     "output_type": "display_data"
    }
   ],
   "source": [
    "def catboost_max_depth(X_train, X_test, y_train, y_test, n):\n",
    "    mse_train = []\n",
    "    mse_test = []\n",
    "    for i in n:\n",
    "        catboost = CatBoostClassifier(iterations=12,max_depth=i,random_state=10).fit(X_train,y_train,eval_set=(X_test, y_test),logging_level='Silent')\n",
    "        mse_train.append(mean_squared_error(y_train, catboost.predict(X_train)))\n",
    "        mse_test.append(mean_squared_error(y_test, catboost.predict(X_test)))\n",
    "    fig, ax = plt.subplots(figsize=(8, 4))\n",
    "    ax.plot(n, mse_train, alpha=0.5, color='blue', label='train')\n",
    "    ax.plot(n, mse_test, alpha=0.5, color='red', label='test')\n",
    "    ax.set_ylabel(\"MSE\")\n",
    "    ax.set_xlabel(\"max_depth\")\n",
    "    ax.legend(framealpha=1, frameon=True);\n",
    "\n",
    "catboost_max_depth(X_train, X_test, y_train, y_test, list(range(1,15)))"
   ]
  },
  {
   "cell_type": "markdown",
   "id": "31d8e439",
   "metadata": {},
   "source": [
    "# Model"
   ]
  },
  {
   "cell_type": "code",
   "execution_count": 136,
   "id": "099bf6e6",
   "metadata": {},
   "outputs": [],
   "source": [
    "# Fitting CatBoost to the Training set\n",
    "cb = CatBoostClassifier(iterations=12,max_depth=6,random_state=10).fit(X_train, y_train,eval_set=(X_test, y_test),logging_level='Silent')"
   ]
  },
  {
   "cell_type": "markdown",
   "id": "dfd74fcc",
   "metadata": {},
   "source": [
    "# Results"
   ]
  },
  {
   "cell_type": "code",
   "execution_count": 137,
   "id": "af242f1d",
   "metadata": {},
   "outputs": [
    {
     "data": {
      "text/plain": [
       "1.0"
      ]
     },
     "execution_count": 137,
     "metadata": {},
     "output_type": "execute_result"
    }
   ],
   "source": [
    "# Predicting the Test set results\n",
    "cb_y_pred = cb.predict(X_test)\n",
    "cb.score(X_test,y_test).round(3)"
   ]
  },
  {
   "cell_type": "markdown",
   "id": "27742cca",
   "metadata": {},
   "source": [
    "Можем сделать вывод что в 100% модель соверашет правильных поступков, ошибок нет"
   ]
  },
  {
   "cell_type": "code",
   "execution_count": 138,
   "id": "4009bbbd",
   "metadata": {},
   "outputs": [
    {
     "name": "stdout",
     "output_type": "stream",
     "text": [
      "[[11  0]\n",
      " [ 0  3]]\n"
     ]
    }
   ],
   "source": [
    "# Making the Confusion Matrix\n",
    "cm = confusion_matrix(y_test, cb_y_pred)\n",
    "print(cm)"
   ]
  },
  {
   "cell_type": "markdown",
   "id": "a6386ba2",
   "metadata": {},
   "source": [
    "Как видно, все 14 примеров распознано верно"
   ]
  },
  {
   "cell_type": "code",
   "execution_count": 139,
   "id": "100138da",
   "metadata": {},
   "outputs": [
    {
     "data": {
      "text/plain": [
       "Text(0.5, 1.0, 'Boosting. Feature Importance')"
      ]
     },
     "execution_count": 139,
     "metadata": {},
     "output_type": "execute_result"
    },
    {
     "data": {
      "image/png": "[encoded data removed]",
      "text/plain": [
       "<Figure size 720x504 with 1 Axes>"
      ]
     },
     "metadata": {
      "needs_background": "light"
     },
     "output_type": "display_data"
    }
   ],
   "source": [
    "# Features importances\n",
    "cb_imp = pd.DataFrame({'imp': cb.get_feature_importance(), 'col': col})\n",
    "cb_imp = cb_imp.sort_values(['imp', 'col'], ascending=[True, False]).iloc[-25:]\n",
    "cb_imp.plot(kind='barh', x='col', y='imp', figsize=(10, 7), legend=None)\n",
    "plt.title('Boosting. Feature Importance')"
   ]
  },
  {
   "cell_type": "code",
   "execution_count": 140,
   "id": "ce063ebd",
   "metadata": {},
   "outputs": [
    {
     "name": "stderr",
     "output_type": "stream",
     "text": [
      "*c* argument looks like a single numeric RGB or RGBA sequence, which should be avoided as value-mapping will have precedence in case its length matches with *x* & *y*.  Please use the *color* keyword-argument or provide a 2D array with a single row if you intend to specify the same RGB or RGBA value for all points.\n",
      "*c* argument looks like a single numeric RGB or RGBA sequence, which should be avoided as value-mapping will have precedence in case its length matches with *x* & *y*.  Please use the *color* keyword-argument or provide a 2D array with a single row if you intend to specify the same RGB or RGBA value for all points.\n"
     ]
    },
    {
     "data": {
      "image/png": "[encoded data removed]",
      "text/plain": [
       "<Figure size 432x288 with 1 Axes>"
      ]
     },
     "metadata": {
      "needs_background": "light"
     },
     "output_type": "display_data"
    }
   ],
   "source": [
    "# Visualising the Test set results\n",
    "X_set, y_set = X_test, y_test\n",
    "X_set, y_set = X_test, y_test\n",
    "X1, X2 = np.meshgrid(np.arange(start = X_set['Количество чеков в месяц'].min() - 1, stop = X_set['Количество чеков в месяц'].max() + 1),\n",
    "                     np.arange(start = X_set['Среднее количество единиц в чеке'].min() - 1, stop = X_set['Среднее количество единиц в чеке'].max() + 1))\n",
    "plt.contourf(X1, X2, cb.predict(np.array([X1.ravel(), X2.ravel()]).T).reshape(X1.shape),\n",
    "             alpha = 0.75, cmap = ListedColormap(('red', 'green')))\n",
    "plt.xlim(X1.min(), X1.max())\n",
    "plt.ylim(X2.min(), X2.max())\n",
    "for i, j in enumerate(np.unique(y_set)):\n",
    "    plt.scatter(X_set['Количество чеков в месяц'][y_set == j], X_set['Среднее количество единиц в чеке'][y_set == j],\n",
    "                c = ListedColormap(('red', 'green'))(i), label = j)\n",
    "plt.title('Random Forest (Test set)')\n",
    "plt.xlabel('Количество чеков в месяц')\n",
    "plt.ylabel('Среднее количество единиц в чеке')\n",
    "plt.legend()\n",
    "plt.show()"
   ]
  },
  {
   "cell_type": "markdown",
   "id": "ad72735c",
   "metadata": {},
   "source": [
    "Можем сделать вывод, что используя метод Forest мы получили наихудший результат"
   ]
  },
  {
   "cell_type": "markdown",
   "id": "f8534165",
   "metadata": {},
   "source": [
    "# Hierarchical Clustering"
   ]
  },
  {
   "cell_type": "code",
   "execution_count": 141,
   "id": "d496823a",
   "metadata": {},
   "outputs": [],
   "source": [
    "from sklearn.preprocessing import MinMaxScaler\n",
    "sc = MinMaxScaler().fit(df)\n",
    "df_arr = sc.transform(df)"
   ]
  },
  {
   "cell_type": "code",
   "execution_count": 142,
   "id": "950a72a6",
   "metadata": {},
   "outputs": [
    {
     "data": {
      "text/html": [
       "<div>\n",
       "<style scoped>\n",
       "    .dataframe tbody tr th:only-of-type {\n",
       "        vertical-align: middle;\n",
       "    }\n",
       "\n",
       "    .dataframe tbody tr th {\n",
       "        vertical-align: top;\n",
       "    }\n",
       "\n",
       "    .dataframe thead th {\n",
       "        text-align: right;\n",
       "    }\n",
       "</style>\n",
       "<table border=\"1\" class=\"dataframe\">\n",
       "  <thead>\n",
       "    <tr style=\"text-align: right;\">\n",
       "      <th></th>\n",
       "      <th>Успех</th>\n",
       "      <th>Площадь загальна кв.м</th>\n",
       "      <th>Этаж</th>\n",
       "      <th>Количество сотрудников в штаті</th>\n",
       "      <th>Тип</th>\n",
       "      <th>Количество чеков в месяц</th>\n",
       "      <th>Среднее количество единиц в чеке</th>\n",
       "      <th>Людинопотік</th>\n",
       "      <th>Середній дохід населення</th>\n",
       "      <th>Зупинка ГТ</th>\n",
       "      <th>Зупинка ГТ додому</th>\n",
       "      <th>Кінцева зупинкка ГТ</th>\n",
       "      <th>Пішохідний перехід</th>\n",
       "      <th>Спеціалізований хліб</th>\n",
       "    </tr>\n",
       "  </thead>\n",
       "  <tbody>\n",
       "    <tr>\n",
       "      <th>0</th>\n",
       "      <td>0</td>\n",
       "      <td>9.00</td>\n",
       "      <td>1</td>\n",
       "      <td>2</td>\n",
       "      <td>0</td>\n",
       "      <td>1230.0</td>\n",
       "      <td>1.56</td>\n",
       "      <td>5211.0</td>\n",
       "      <td>15610.0</td>\n",
       "      <td>1</td>\n",
       "      <td>1</td>\n",
       "      <td>0</td>\n",
       "      <td>0</td>\n",
       "      <td>1</td>\n",
       "    </tr>\n",
       "    <tr>\n",
       "      <th>1</th>\n",
       "      <td>0</td>\n",
       "      <td>30.00</td>\n",
       "      <td>1</td>\n",
       "      <td>2</td>\n",
       "      <td>0</td>\n",
       "      <td>2715.0</td>\n",
       "      <td>2.03</td>\n",
       "      <td>2424.0</td>\n",
       "      <td>12600.0</td>\n",
       "      <td>1</td>\n",
       "      <td>1</td>\n",
       "      <td>1</td>\n",
       "      <td>0</td>\n",
       "      <td>0</td>\n",
       "    </tr>\n",
       "    <tr>\n",
       "      <th>2</th>\n",
       "      <td>0</td>\n",
       "      <td>15.00</td>\n",
       "      <td>1</td>\n",
       "      <td>2</td>\n",
       "      <td>0</td>\n",
       "      <td>878.0</td>\n",
       "      <td>1.81</td>\n",
       "      <td>3868.0</td>\n",
       "      <td>12600.0</td>\n",
       "      <td>1</td>\n",
       "      <td>1</td>\n",
       "      <td>0</td>\n",
       "      <td>1</td>\n",
       "      <td>1</td>\n",
       "    </tr>\n",
       "    <tr>\n",
       "      <th>3</th>\n",
       "      <td>0</td>\n",
       "      <td>20.00</td>\n",
       "      <td>1</td>\n",
       "      <td>2</td>\n",
       "      <td>0</td>\n",
       "      <td>2346.0</td>\n",
       "      <td>2.18</td>\n",
       "      <td>4546.0</td>\n",
       "      <td>13930.0</td>\n",
       "      <td>1</td>\n",
       "      <td>1</td>\n",
       "      <td>0</td>\n",
       "      <td>0</td>\n",
       "      <td>1</td>\n",
       "    </tr>\n",
       "    <tr>\n",
       "      <th>4</th>\n",
       "      <td>0</td>\n",
       "      <td>30.00</td>\n",
       "      <td>1</td>\n",
       "      <td>2</td>\n",
       "      <td>0</td>\n",
       "      <td>2542.0</td>\n",
       "      <td>1.63</td>\n",
       "      <td>3244.0</td>\n",
       "      <td>16030.0</td>\n",
       "      <td>0</td>\n",
       "      <td>0</td>\n",
       "      <td>0</td>\n",
       "      <td>0</td>\n",
       "      <td>0</td>\n",
       "    </tr>\n",
       "    <tr>\n",
       "      <th>...</th>\n",
       "      <td>...</td>\n",
       "      <td>...</td>\n",
       "      <td>...</td>\n",
       "      <td>...</td>\n",
       "      <td>...</td>\n",
       "      <td>...</td>\n",
       "      <td>...</td>\n",
       "      <td>...</td>\n",
       "      <td>...</td>\n",
       "      <td>...</td>\n",
       "      <td>...</td>\n",
       "      <td>...</td>\n",
       "      <td>...</td>\n",
       "      <td>...</td>\n",
       "    </tr>\n",
       "    <tr>\n",
       "      <th>64</th>\n",
       "      <td>1</td>\n",
       "      <td>51.77</td>\n",
       "      <td>1</td>\n",
       "      <td>6</td>\n",
       "      <td>1</td>\n",
       "      <td>13552.0</td>\n",
       "      <td>1.89</td>\n",
       "      <td>2306.0</td>\n",
       "      <td>8750.0</td>\n",
       "      <td>0</td>\n",
       "      <td>0</td>\n",
       "      <td>0</td>\n",
       "      <td>1</td>\n",
       "      <td>1</td>\n",
       "    </tr>\n",
       "    <tr>\n",
       "      <th>65</th>\n",
       "      <td>1</td>\n",
       "      <td>27.26</td>\n",
       "      <td>1</td>\n",
       "      <td>4</td>\n",
       "      <td>0</td>\n",
       "      <td>7598.0</td>\n",
       "      <td>1.85</td>\n",
       "      <td>4065.0</td>\n",
       "      <td>13300.0</td>\n",
       "      <td>0</td>\n",
       "      <td>0</td>\n",
       "      <td>0</td>\n",
       "      <td>0</td>\n",
       "      <td>1</td>\n",
       "    </tr>\n",
       "    <tr>\n",
       "      <th>66</th>\n",
       "      <td>0</td>\n",
       "      <td>148.91</td>\n",
       "      <td>1</td>\n",
       "      <td>2</td>\n",
       "      <td>0</td>\n",
       "      <td>5431.0</td>\n",
       "      <td>1.99</td>\n",
       "      <td>906.0</td>\n",
       "      <td>11060.0</td>\n",
       "      <td>0</td>\n",
       "      <td>0</td>\n",
       "      <td>0</td>\n",
       "      <td>0</td>\n",
       "      <td>0</td>\n",
       "    </tr>\n",
       "    <tr>\n",
       "      <th>67</th>\n",
       "      <td>0</td>\n",
       "      <td>50.93</td>\n",
       "      <td>1</td>\n",
       "      <td>3</td>\n",
       "      <td>1</td>\n",
       "      <td>4375.0</td>\n",
       "      <td>1.73</td>\n",
       "      <td>1742.0</td>\n",
       "      <td>11900.0</td>\n",
       "      <td>0</td>\n",
       "      <td>0</td>\n",
       "      <td>0</td>\n",
       "      <td>0</td>\n",
       "      <td>0</td>\n",
       "    </tr>\n",
       "    <tr>\n",
       "      <th>68</th>\n",
       "      <td>1</td>\n",
       "      <td>30.00</td>\n",
       "      <td>1</td>\n",
       "      <td>3</td>\n",
       "      <td>0</td>\n",
       "      <td>7355.0</td>\n",
       "      <td>2.13</td>\n",
       "      <td>1132.0</td>\n",
       "      <td>11060.0</td>\n",
       "      <td>0</td>\n",
       "      <td>0</td>\n",
       "      <td>1</td>\n",
       "      <td>1</td>\n",
       "      <td>1</td>\n",
       "    </tr>\n",
       "  </tbody>\n",
       "</table>\n",
       "<p>69 rows × 14 columns</p>\n",
       "</div>"
      ],
      "text/plain": [
       "    Успех  Площадь загальна кв.м  Этаж  Количество сотрудников в штаті  Тип  \\\n",
       "0       0                   9.00     1                               2    0   \n",
       "1       0                  30.00     1                               2    0   \n",
       "2       0                  15.00     1                               2    0   \n",
       "3       0                  20.00     1                               2    0   \n",
       "4       0                  30.00     1                               2    0   \n",
       "..    ...                    ...   ...                             ...  ...   \n",
       "64      1                  51.77     1                               6    1   \n",
       "65      1                  27.26     1                               4    0   \n",
       "66      0                 148.91     1                               2    0   \n",
       "67      0                  50.93     1                               3    1   \n",
       "68      1                  30.00     1                               3    0   \n",
       "\n",
       "    Количество чеков в месяц  Среднее количество единиц в чеке  Людинопотік  \\\n",
       "0                     1230.0                              1.56       5211.0   \n",
       "1                     2715.0                              2.03       2424.0   \n",
       "2                      878.0                              1.81       3868.0   \n",
       "3                     2346.0                              2.18       4546.0   \n",
       "4                     2542.0                              1.63       3244.0   \n",
       "..                       ...                               ...          ...   \n",
       "64                   13552.0                              1.89       2306.0   \n",
       "65                    7598.0                              1.85       4065.0   \n",
       "66                    5431.0                              1.99        906.0   \n",
       "67                    4375.0                              1.73       1742.0   \n",
       "68                    7355.0                              2.13       1132.0   \n",
       "\n",
       "    Середній дохід населення  Зупинка ГТ  Зупинка ГТ додому  \\\n",
       "0                    15610.0           1                  1   \n",
       "1                    12600.0           1                  1   \n",
       "2                    12600.0           1                  1   \n",
       "3                    13930.0           1                  1   \n",
       "4                    16030.0           0                  0   \n",
       "..                       ...         ...                ...   \n",
       "64                    8750.0           0                  0   \n",
       "65                   13300.0           0                  0   \n",
       "66                   11060.0           0                  0   \n",
       "67                   11900.0           0                  0   \n",
       "68                   11060.0           0                  0   \n",
       "\n",
       "    Кінцева зупинкка ГТ  Пішохідний перехід  Спеціалізований хліб  \n",
       "0                     0                   0                     1  \n",
       "1                     1                   0                     0  \n",
       "2                     0                   1                     1  \n",
       "3                     0                   0                     1  \n",
       "4                     0                   0                     0  \n",
       "..                  ...                 ...                   ...  \n",
       "64                    0                   1                     1  \n",
       "65                    0                   0                     1  \n",
       "66                    0                   0                     0  \n",
       "67                    0                   0                     0  \n",
       "68                    1                   1                     1  \n",
       "\n",
       "[69 rows x 14 columns]"
      ]
     },
     "execution_count": 142,
     "metadata": {},
     "output_type": "execute_result"
    }
   ],
   "source": [
    "df"
   ]
  },
  {
   "cell_type": "code",
   "execution_count": 143,
   "id": "2ce932f2",
   "metadata": {},
   "outputs": [],
   "source": [
    "df = pd.DataFrame(df_arr, columns=df.columns).round()"
   ]
  },
  {
   "cell_type": "code",
   "execution_count": 144,
   "id": "284751db",
   "metadata": {},
   "outputs": [
    {
     "data": {
      "image/png": "[encoded data removed]",
      "text/plain": [
       "<Figure size 864x648 with 2 Axes>"
      ]
     },
     "metadata": {
      "needs_background": "light"
     },
     "output_type": "display_data"
    }
   ],
   "source": [
    "corrmat = df.corr()\n",
    "f, ax = plt.subplots(figsize=(12, 9))\n",
    "sns.heatmap(corrmat, annot=True)\n",
    "plt.show()"
   ]
  },
  {
   "cell_type": "code",
   "execution_count": 145,
   "id": "cf85c807",
   "metadata": {},
   "outputs": [
    {
     "data": {
      "image/png": "[encoded data removed]",
      "text/plain": [
       "<Figure size 432x288 with 1 Axes>"
      ]
     },
     "metadata": {
      "needs_background": "light"
     },
     "output_type": "display_data"
    }
   ],
   "source": [
    "# Using the dendrogram to find the optimal number of clusters\n",
    "import scipy.cluster.hierarchy as sch\n",
    "dendrogram = sch.dendrogram(sch.linkage(df, method = 'ward'))\n",
    "plt.title('Dendrogram')\n",
    "plt.xlabel('Customers')\n",
    "plt.ylabel('Euclidean distances')\n",
    "plt.show()"
   ]
  },
  {
   "cell_type": "code",
   "execution_count": 149,
   "id": "6f485d82",
   "metadata": {},
   "outputs": [],
   "source": [
    "from sklearn.cluster import AgglomerativeClustering\n",
    "hc = AgglomerativeClustering(n_clusters = 3, affinity = 'euclidean', linkage = 'ward').fit_predict(df)"
   ]
  },
  {
   "cell_type": "code",
   "execution_count": 150,
   "id": "e6d4c8d8",
   "metadata": {},
   "outputs": [
    {
     "data": {
      "text/plain": [
       "array([1, 1, 1, 1, 2, 2, 0, 0, 2, 0, 2, 0, 1, 0, 0, 0, 2, 1, 2, 1, 2, 2,\n",
       "       0, 0, 1, 0, 2, 1, 0, 0, 2, 2, 0, 2, 1, 2, 0, 1, 2, 1, 2, 0, 2, 0,\n",
       "       1, 0, 2, 2, 2, 0, 0, 1, 0, 0, 2, 1, 2, 1, 2, 0, 2, 0, 0, 1, 0, 2,\n",
       "       0, 2, 0], dtype=int64)"
      ]
     },
     "execution_count": 150,
     "metadata": {},
     "output_type": "execute_result"
    }
   ],
   "source": [
    "hc"
   ]
  },
  {
   "cell_type": "markdown",
   "id": "46a70209",
   "metadata": {},
   "source": [
    "# Feature Reduction"
   ]
  },
  {
   "cell_type": "code",
   "execution_count": 151,
   "id": "8463f162",
   "metadata": {},
   "outputs": [],
   "source": [
    "X = df.iloc[:, [0, 5, 6]]"
   ]
  },
  {
   "cell_type": "code",
   "execution_count": 152,
   "id": "034d5e4a",
   "metadata": {},
   "outputs": [
    {
     "data": {
      "image/png": "[encoded data removed]",
      "text/plain": [
       "<Figure size 432x288 with 1 Axes>"
      ]
     },
     "metadata": {
      "needs_background": "light"
     },
     "output_type": "display_data"
    }
   ],
   "source": [
    "# Using the dendrogram to find the optimal number of clusters\n",
    "import scipy.cluster.hierarchy as sch\n",
    "dendrogram = sch.dendrogram(sch.linkage(X, method = 'ward'))\n",
    "plt.title('Dendrogram')\n",
    "plt.xlabel('Customers')\n",
    "plt.ylabel('Euclidean distances')\n",
    "plt.show()"
   ]
  },
  {
   "cell_type": "markdown",
   "id": "5840c9a7",
   "metadata": {},
   "source": [
    "Исходя из графика можно сказть что подходящее количество классов это 2"
   ]
  },
  {
   "cell_type": "code",
   "execution_count": 155,
   "id": "800ecca6",
   "metadata": {},
   "outputs": [],
   "source": [
    "# Fitting Hierarchical Clustering to the dataset\n",
    "from sklearn.cluster import AgglomerativeClustering\n",
    "hc = AgglomerativeClustering(n_clusters = 2, affinity = 'euclidean', linkage = 'ward').fit_predict(df)"
   ]
  },
  {
   "cell_type": "code",
   "execution_count": 156,
   "id": "95f3d133",
   "metadata": {},
   "outputs": [],
   "source": [
    "# Export hc clusters\n",
    "import pickle\n",
    "obj = {'hc': hc}\n",
    "output = open('clust.pkl', 'wb')\n",
    "pickle.dump(obj, output, 2)\n",
    "output.close()"
   ]
  },
  {
   "cell_type": "markdown",
   "id": "8e1090f9",
   "metadata": {},
   "source": [
    "# K-Means Clustering"
   ]
  },
  {
   "cell_type": "code",
   "execution_count": 157,
   "id": "4820d4ff",
   "metadata": {},
   "outputs": [
    {
     "data": {
      "image/png": "[encoded data removed]",
      "text/plain": [
       "<Figure size 432x288 with 1 Axes>"
      ]
     },
     "metadata": {
      "needs_background": "light"
     },
     "output_type": "display_data"
    }
   ],
   "source": [
    "# Using the elbow method to find the optimal number of clusters\n",
    "from sklearn.cluster import KMeans\n",
    "wcss = []\n",
    "for i in range(1, 11):\n",
    "    kmeans = KMeans(n_clusters = i, init = 'k-means++', random_state = 0)\n",
    "    kmeans.fit(df)\n",
    "    wcss.append(kmeans.inertia_)\n",
    "\n",
    "plt.plot(range(1, 11), wcss)\n",
    "plt.title('The Elbow Method')\n",
    "plt.xlabel('Number of clusters')\n",
    "plt.ylabel('WCSS')\n",
    "plt.show()"
   ]
  },
  {
   "cell_type": "code",
   "execution_count": 158,
   "id": "05784bf2",
   "metadata": {},
   "outputs": [
    {
     "data": {
      "image/png": "[encoded data removed]",
      "text/plain": [
       "<Figure size 432x288 with 1 Axes>"
      ]
     },
     "metadata": {
      "needs_background": "light"
     },
     "output_type": "display_data"
    },
    {
     "name": "stdout",
     "output_type": "stream",
     "text": [
      "2:0.28533865301520256\n",
      "3:0.2971751088362449\n",
      "4:0.3023015250341913\n",
      "5:0.289760020246165\n"
     ]
    }
   ],
   "source": [
    "# Using the silhouette method to find the optimal number of clusters\n",
    "from sklearn.metrics import silhouette_score\n",
    "\n",
    "sil = []\n",
    "\n",
    "for k in range(2, 6):\n",
    "  kmeans = KMeans(n_clusters = k).fit(df)  \n",
    "  preds = kmeans.fit_predict(df)\n",
    "  sil.append(silhouette_score(df, preds, metric = 'euclidean'))\n",
    "\n",
    "\n",
    "plt.plot(range(2, 6), sil)\n",
    "plt.title('Silhouette Method')\n",
    "plt.xlabel('Number of clusters')\n",
    "plt.ylabel('Sil')\n",
    "plt.show()\n",
    "\n",
    "for i in range(len(sil)):\n",
    " print(str(i+2) +\":\"+ str(sil[i]))"
   ]
  },
  {
   "cell_type": "markdown",
   "id": "a88ece06",
   "metadata": {},
   "source": [
    "# Model"
   ]
  },
  {
   "cell_type": "code",
   "execution_count": 159,
   "id": "d028b544",
   "metadata": {},
   "outputs": [
    {
     "data": {
      "text/html": [
       "<div>\n",
       "<style scoped>\n",
       "    .dataframe tbody tr th:only-of-type {\n",
       "        vertical-align: middle;\n",
       "    }\n",
       "\n",
       "    .dataframe tbody tr th {\n",
       "        vertical-align: top;\n",
       "    }\n",
       "\n",
       "    .dataframe thead th {\n",
       "        text-align: right;\n",
       "    }\n",
       "</style>\n",
       "<table border=\"1\" class=\"dataframe\">\n",
       "  <thead>\n",
       "    <tr style=\"text-align: right;\">\n",
       "      <th></th>\n",
       "      <th>Успех</th>\n",
       "      <th>Площадь загальна кв.м</th>\n",
       "      <th>Этаж</th>\n",
       "      <th>Количество сотрудников в штаті</th>\n",
       "      <th>Тип</th>\n",
       "      <th>Количество чеков в месяц</th>\n",
       "      <th>Среднее количество единиц в чеке</th>\n",
       "      <th>Людинопотік</th>\n",
       "      <th>Середній дохід населення</th>\n",
       "      <th>Зупинка ГТ</th>\n",
       "      <th>Зупинка ГТ додому</th>\n",
       "      <th>Кінцева зупинкка ГТ</th>\n",
       "      <th>Пішохідний перехід</th>\n",
       "      <th>Спеціалізований хліб</th>\n",
       "    </tr>\n",
       "  </thead>\n",
       "  <tbody>\n",
       "    <tr>\n",
       "      <th>0</th>\n",
       "      <td>0.00</td>\n",
       "      <td>-0.00</td>\n",
       "      <td>0.0</td>\n",
       "      <td>0.00</td>\n",
       "      <td>0.06</td>\n",
       "      <td>-0.00</td>\n",
       "      <td>0.50</td>\n",
       "      <td>0.22</td>\n",
       "      <td>0.94</td>\n",
       "      <td>0.89</td>\n",
       "      <td>0.78</td>\n",
       "      <td>0.28</td>\n",
       "      <td>0.39</td>\n",
       "      <td>0.56</td>\n",
       "    </tr>\n",
       "    <tr>\n",
       "      <th>1</th>\n",
       "      <td>0.19</td>\n",
       "      <td>0.06</td>\n",
       "      <td>0.0</td>\n",
       "      <td>0.00</td>\n",
       "      <td>-0.00</td>\n",
       "      <td>-0.00</td>\n",
       "      <td>0.09</td>\n",
       "      <td>0.09</td>\n",
       "      <td>1.00</td>\n",
       "      <td>0.03</td>\n",
       "      <td>-0.00</td>\n",
       "      <td>0.00</td>\n",
       "      <td>0.22</td>\n",
       "      <td>0.13</td>\n",
       "    </tr>\n",
       "    <tr>\n",
       "      <th>2</th>\n",
       "      <td>1.00</td>\n",
       "      <td>0.16</td>\n",
       "      <td>0.0</td>\n",
       "      <td>0.68</td>\n",
       "      <td>0.05</td>\n",
       "      <td>0.79</td>\n",
       "      <td>0.89</td>\n",
       "      <td>0.11</td>\n",
       "      <td>1.00</td>\n",
       "      <td>0.42</td>\n",
       "      <td>0.26</td>\n",
       "      <td>0.05</td>\n",
       "      <td>0.47</td>\n",
       "      <td>0.42</td>\n",
       "    </tr>\n",
       "  </tbody>\n",
       "</table>\n",
       "</div>"
      ],
      "text/plain": [
       "   Успех  Площадь загальна кв.м  Этаж  Количество сотрудников в штаті   Тип  \\\n",
       "0   0.00                  -0.00   0.0                            0.00  0.06   \n",
       "1   0.19                   0.06   0.0                            0.00 -0.00   \n",
       "2   1.00                   0.16   0.0                            0.68  0.05   \n",
       "\n",
       "   Количество чеков в месяц  Среднее количество единиц в чеке  Людинопотік  \\\n",
       "0                     -0.00                              0.50         0.22   \n",
       "1                     -0.00                              0.09         0.09   \n",
       "2                      0.79                              0.89         0.11   \n",
       "\n",
       "   Середній дохід населення  Зупинка ГТ  Зупинка ГТ додому  \\\n",
       "0                      0.94        0.89               0.78   \n",
       "1                      1.00        0.03              -0.00   \n",
       "2                      1.00        0.42               0.26   \n",
       "\n",
       "   Кінцева зупинкка ГТ  Пішохідний перехід  Спеціалізований хліб  \n",
       "0                 0.28                0.39                  0.56  \n",
       "1                 0.00                0.22                  0.13  \n",
       "2                 0.05                0.47                  0.42  "
      ]
     },
     "execution_count": 159,
     "metadata": {},
     "output_type": "execute_result"
    }
   ],
   "source": [
    "# Fitting K-Means to the dataset\n",
    "km = KMeans(n_clusters = 3, init = 'k-means++', random_state = 0).fit_predict(df)\n",
    "kms = KMeans(n_clusters = 3, random_state = 0).fit(df)\n",
    "pd.DataFrame(kms.cluster_centers_, columns = df.columns).round(2)"
   ]
  },
  {
   "cell_type": "markdown",
   "id": "0bb159a9",
   "metadata": {},
   "source": [
    "# Feature Reduction"
   ]
  },
  {
   "cell_type": "code",
   "execution_count": 162,
   "id": "d6ebda1c",
   "metadata": {},
   "outputs": [],
   "source": [
    "X = df.iloc[:, [0, 5, 6]]"
   ]
  },
  {
   "cell_type": "code",
   "execution_count": 163,
   "id": "92bd3528",
   "metadata": {},
   "outputs": [
    {
     "data": {
      "text/html": [
       "<div>\n",
       "<style scoped>\n",
       "    .dataframe tbody tr th:only-of-type {\n",
       "        vertical-align: middle;\n",
       "    }\n",
       "\n",
       "    .dataframe tbody tr th {\n",
       "        vertical-align: top;\n",
       "    }\n",
       "\n",
       "    .dataframe thead th {\n",
       "        text-align: right;\n",
       "    }\n",
       "</style>\n",
       "<table border=\"1\" class=\"dataframe\">\n",
       "  <thead>\n",
       "    <tr style=\"text-align: right;\">\n",
       "      <th></th>\n",
       "      <th>Успех</th>\n",
       "      <th>Количество чеков в месяц</th>\n",
       "      <th>Среднее количество единиц в чеке</th>\n",
       "    </tr>\n",
       "  </thead>\n",
       "  <tbody>\n",
       "    <tr>\n",
       "      <th>0</th>\n",
       "      <td>0.0</td>\n",
       "      <td>-0.0</td>\n",
       "      <td>0.0</td>\n",
       "    </tr>\n",
       "    <tr>\n",
       "      <th>1</th>\n",
       "      <td>1.0</td>\n",
       "      <td>1.0</td>\n",
       "      <td>1.0</td>\n",
       "    </tr>\n",
       "  </tbody>\n",
       "</table>\n",
       "</div>"
      ],
      "text/plain": [
       "   Успех  Количество чеков в месяц  Среднее количество единиц в чеке\n",
       "0    0.0                      -0.0                               0.0\n",
       "1    1.0                       1.0                               1.0"
      ]
     },
     "execution_count": 163,
     "metadata": {},
     "output_type": "execute_result"
    }
   ],
   "source": [
    "# Fitting K-Means to the dataset\n",
    "km = KMeans(n_clusters = 2, init = 'k-means++', random_state = 0).fit_predict(X)\n",
    "kms = KMeans(n_clusters = 2, random_state = 0).fit(X)\n",
    "pd.DataFrame(kms.cluster_centers_, columns = ['Успех','Количество чеков в месяц','Среднее количество единиц в чеке']).round()"
   ]
  },
  {
   "cell_type": "markdown",
   "id": "096b9a8a",
   "metadata": {},
   "source": [
    "Можем сделать вывод что данные разбились на два класса. Один успешных, а второй нет"
   ]
  },
  {
   "cell_type": "markdown",
   "id": "f39efb20",
   "metadata": {},
   "source": [
    "# Results matching"
   ]
  },
  {
   "cell_type": "code",
   "execution_count": 165,
   "id": "2047f613",
   "metadata": {},
   "outputs": [],
   "source": [
    "# Importing hc clusters\n",
    "import pickle\n",
    "input = open('clust.pkl', 'rb')\n",
    "obj = pickle.load(input)\n",
    "input.close()\n",
    "hc = obj[\"hc\"]"
   ]
  },
  {
   "cell_type": "code",
   "execution_count": 167,
   "id": "e5bcb81f",
   "metadata": {},
   "outputs": [
    {
     "data": {
      "text/plain": [
       "0.6762351642285399"
      ]
     },
     "execution_count": 167,
     "metadata": {},
     "output_type": "execute_result"
    }
   ],
   "source": [
    "# Comparing Clustering Algorithms\n",
    "from sklearn.metrics.cluster import adjusted_rand_score\n",
    "adjusted_rand_score(hc,km)"
   ]
  },
  {
   "cell_type": "code",
   "execution_count": 168,
   "id": "751b2ec8",
   "metadata": {},
   "outputs": [],
   "source": [
    "# Export km clusters\n",
    "import pickle\n",
    "obj = {'km': km}\n",
    "output = open('clust-km1.pkl', 'wb')\n",
    "pickle.dump(obj, output, 2)\n",
    "output.close()"
   ]
  },
  {
   "cell_type": "code",
   "execution_count": null,
   "id": "c8da0b67",
   "metadata": {},
   "outputs": [],
   "source": []
  }
 ],
 "metadata": {
  "kernelspec": {
   "display_name": "Python 3 (ipykernel)",
   "language": "python",
   "name": "python3"
  },
  "language_info": {
   "codemirror_mode": {
    "name": "ipython",
    "version": 3
   },
   "file_extension": ".py",
   "mimetype": "text/x-python",
   "name": "python",
   "nbconvert_exporter": "python",
   "pygments_lexer": "ipython3",
   "version": "3.8.12"
  }
 },
 "nbformat": 4,
 "nbformat_minor": 5
}
